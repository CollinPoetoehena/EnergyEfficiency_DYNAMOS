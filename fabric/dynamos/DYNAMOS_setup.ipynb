{
    "cells": [
        {
            "cell_type": "markdown",
            "metadata": {
                "tags": []
            },
            "source": [
                "# Setup and Configure DYNAMOS in the created Kubernetes environment in FABRIC \n",
                "\n",
                "This Jupyter notebook will configure the Kubernetes environment so that DYNAMOS can run in it.\n",
                "\n",
                "FABRIC API docs: https://fabric-fablib.readthedocs.io/en/latest/index.html\n",
                "\n",
                "\n",
                "## Step 1: Configure the Environment Configure the Environment (has to be done once in the Jupyter Hub environment), Create Slice & Setup K8s Cluster\n",
                "\n",
                "Before running this notebook, you will need to configure your environment using the [Configure Environment](../configure_and_validate.ipynb) notebook. Please stop here, open and run that notebook, then return to this notebook. Note: this has to be done only once in the Jupyter Hub environment (unless configuration is removed/deleted of course).\n",
                "\n",
                "If you are using the FABRIC JupyterHub many of the environment variables will be automatically configured for you.  You will still need to set your bastion username, upload your bastion private key, and set the path to where you put your bastion private key. Your bastion username and private key should already be in your possession.  \n",
                "\n",
                "After following all steps of the Configuring Environment notebook, you should be able to run this notebook without additional steps.\n",
                "\n",
                "Next, you will need to have setup the slice in FABRIC using the [Create Slice](../create_slice.ipynb) notebook.\n",
                "\n",
                "Finally, you will need to prepare the Kubernetes environment in FABRIC using the [Configure Kubernetes](../k8s-cluster-setup/k8s_setup.ipynb) notebook.\n",
                "\n",
                "More information about accessing your experiments through the FABRIC bastion hosts can be found [here](https://learn.fabric-testbed.net/knowledge-base/logging-into-fabric-vms/).\n",
                " "
            ]
        },
        {
            "cell_type": "markdown",
            "metadata": {
                "tags": []
            },
            "source": [
                "## Step 2: Setup the Environment for this Notebook\n",
                "\n",
                "### Import FABRIC API and other libraries"
            ]
        },
        {
            "cell_type": "code",
            "execution_count": null,
            "metadata": {
                "tags": []
            },
            "outputs": [],
            "source": [
                "import json\n",
                "import traceback\n",
                "\n",
                "from fabrictestbed_extensions.fablib.fablib import FablibManager as fablib_manager\n",
                "\n",
                "fablib = fablib_manager()\n",
                "\n",
                "fablib.show_config();\n"
            ]
        },
        {
            "cell_type": "markdown",
            "metadata": {},
            "source": [
                "### (Optional): Query for Available Testbed Resources and Settings\n",
                "\n",
                "This optional command queries the FABRIC services to find the available resources. It may be useful for finding a site with available capacity and other settings or available resources."
            ]
        },
        {
            "cell_type": "code",
            "execution_count": null,
            "metadata": {},
            "outputs": [],
            "source": [
                "# Comment out lists you do not want to view\n",
                "\n",
                "# List available images that can be used for the nodes\n",
                "fablib.get_image_names()"
            ]
        },
        {
            "cell_type": "markdown",
            "metadata": {},
            "source": [
                "### Step 2.2: Configure the parameters and variables\n",
                "Can be used to set the corresponding slice and other variables used for subsequent cells."
            ]
        },
        {
            "cell_type": "code",
            "execution_count": null,
            "metadata": {},
            "outputs": [],
            "source": [
                "slice_name = 'DYNAMOS_EnergyEfficiency'\n",
                "# Nodes:\n",
                "node1_name = 'k8s-control-plane'\n",
                "node2_name = 'dynamos-core'\n",
                "node3_name = 'vu'\n",
                "node4_name = 'uva'\n",
                "node5_name = 'surf'\n",
                "# Network:\n",
                "network_name = 'NET1'"
            ]
        },
        {
            "cell_type": "markdown",
            "metadata": {},
            "source": [
                "### Step 2.3: Set Network IPs for nodes\n",
                "This step sets the network and IPs of the nodes for later usage."
            ]
        },
        {
            "cell_type": "code",
            "execution_count": null,
            "metadata": {},
            "outputs": [],
            "source": [
                "# Get slice and slice components\n",
                "# Get slice by name: https://fabric-fablib.readthedocs.io/en/latest/fablib.html#fabrictestbed_extensions.fablib.fablib.FablibManager.get_slice\n",
                "slice = fablib.get_slice(name=slice_name)\n",
                "# Get the network\n",
                "network = slice.get_network(name=network_name)\n",
                "# Get nodes\n",
                "nodes = slice.get_nodes()\n",
                "\n",
                "# Define function to get the ips for each node\n",
                "def get_ip(node):\n",
                "    interface = node.get_interface(network_name=network_name)\n",
                "    return interface.get_ip_addr()\n",
                "# Define function to get interface of the node\n",
                "def get_interface(node):\n",
                "    interface = node.get_interface(network_name=network_name)\n",
                "    return interface.get_device_name()\n",
                "\n",
                "# Create a dictionary to store node names and their IPs and interfaces\n",
                "node_ips = {}\n",
                "node_interfaces = {}\n",
                "\n",
                "# Populate the dictionary with node names and their corresponding IPs\n",
                "for node in nodes:\n",
                "    node_name = node.get_name()\n",
                "    # Get IPs for each node from the network and set as variables for later usage\n",
                "    node_ips[node_name] = get_ip(node)\n",
                "    # Do the same for interface\n",
                "    # Get IPs for each node from the network and set as variables for later usage\n",
                "    node_interfaces[node_name] = get_interface(node)\n",
                "\n",
                "# Print the IPs and interfaces for each node\n",
                "for node_name, ip in node_ips.items():\n",
                "    print(f\"{node_name} IP: {ip}\")\n",
                "for node_name, interface in node_interfaces.items():\n",
                "    print(f\"{node_name} interface device for Calico (should be the same for each node): {interface}\")"
            ]
        },
        {
            "cell_type": "markdown",
            "metadata": {},
            "source": [
                "## Step 3: TODO: further steps for the experiments here.\n",
                "SSH commands to go into the VMs terminal can be fetched from the previous notebook: [Configure Kubernetes](../k8s-cluster-setup/k8s_setup.ipynb).\n",
                "\n",
                "### Step 3.0: Setup Access to IPv4 from IPv6 only FABRIC VMs\n",
                "See Troubleshooting.md for more explanation about this related issue. In short, the FABRIC VMs have IPv6 access only as their management IP (i.e. main IP). However, not all platforms support IPv6. This is most important for some custom registries outside the big ones like Github, such as \"cr.l5d.io\", which caused some problems before. Also, this might fix some other connectivity issues that occured."
            ]
        },
        {
            "cell_type": "code",
            "execution_count": null,
            "metadata": {},
            "outputs": [],
            "source": [
                "# enable nodes to access IPv4-only resources, such as Github,\n",
                "# even if the control interface is IPv6-only\n",
                "# See: https://github.com/teaching-on-testbeds/fabric-snippets/blob/main/ipv4-access-from-ipv6.md\n",
                "from ipaddress import ip_address, IPv6Address\n",
                "for node in slice.get_nodes():\n",
                "    # Check if the node has IPv6 management IP\n",
                "    if type(ip_address(node.get_management_ip())) is IPv6Address:\n",
                "        # Adds a working public IPv6 DNS server (from SURFnet/AMS-IX) to the systemd-resolved config file:\n",
                "        # 2a00:1098:2c::1 is a known reliable IPv6 DNS resolver.\n",
                "        node.execute('echo \"DNS=2a00:1098:2c::1\" | sudo tee -a /etc/systemd/resolved.conf')\n",
                "        # Restarts the DNS resolver service to apply the new config\n",
                "        node.execute('sudo service systemd-resolved restart')\n",
                "        # Adds a loopback entry for the hostname to /etc/hosts\n",
                "        # Fixes issues where hostname -s cannot resolve to localhost\n",
                "        # Common workaround for tools like sudo, ssh, or certain init systems that rely on hostname resolution\n",
                "        node.execute('echo \"127.0.0.1 $(hostname -s)\" | sudo tee -a /etc/hosts')\n",
                "        # Replaces /etc/resolv.conf with the systemd-managed symlink\n",
                "        # On many systems, /etc/resolv.conf is incorrectly set (or overwritten by cloud-init). This command:\n",
                "        # Deletes any existing file, and recreates it as a symlink to the correct DNS config managed by systemd-resolved\n",
                "        node.execute('sudo rm -f /etc/resolv.conf; sudo ln -sv /run/systemd/resolve/resolv.conf /etc/resolv.conf')"
            ]
        },
        {
            "cell_type": "markdown",
            "metadata": {},
            "source": [
                "### Step 3.1: Install Linkerd in the Cluster"
            ]
        },
        {
            "cell_type": "code",
            "execution_count": null,
            "metadata": {},
            "outputs": [],
            "source": [
                "try:\n",
                "    # Get the control plane node (node1)\n",
                "    node1 = slice.get_node(name=node1_name)\n",
                "    # Upload script file to the node\n",
                "    file_attributes = node1.upload_file(local_file_path=\"linkerd.sh\", remote_file_path=\"linkerd.sh\")\n",
                "    # Add necessary permissions and execute the script\n",
                "    stdout, stderr = node1.execute(f\"chmod +x linkerd.sh && ./linkerd.sh\")\n",
                "\n",
                "except Exception as e:\n",
                "    print(f\"Exception: {e}\")"
            ]
        },
        {
            "cell_type": "markdown",
            "metadata": {},
            "source": [
                "### Step 3.2: Install/Configure DYNAMOS\n",
                "TODO: refer to README.md:\n",
                "Go to the README.md in this folder of the GitHub project and follow the steps for \"TODO:add specific step here\". After these steps, you can do the next steps."
            ]
        },
        {
            "cell_type": "markdown",
            "metadata": {},
            "source": [
                "TODO: add here further the DYNAMOS installation."
            ]
        }
    ],
    "metadata": {
        "kernelspec": {
            "display_name": "Python 3 (ipykernel)",
            "language": "python",
            "name": "python3"
        },
        "language_info": {
            "codemirror_mode": {
                "name": "ipython",
                "version": 3
            },
            "file_extension": ".py",
            "mimetype": "text/x-python",
            "name": "python",
            "nbconvert_exporter": "python",
            "pygments_lexer": "ipython3",
            "version": "3.11.9"
        }
    },
    "nbformat": 4,
    "nbformat_minor": 4
}
