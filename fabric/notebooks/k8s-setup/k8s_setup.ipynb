{
 "cells": [
  {
   "cell_type": "markdown",
   "metadata": {
    "tags": []
   },
   "source": [
    "# Setup Kubernetes environment for DYNAMOS in FABRIC \n",
    "\n",
    "This Jupyter notebook will create the Kubernetes environment in FABRIC after the slice and corresponding nodes have been created.\n",
    "\n",
    "FABRIC API docs: https://fabric-fablib.readthedocs.io/en/latest/index.html\n",
    "\n",
    "\n",
    "## Step 1:  Configure the Environment & Create Slice\n",
    "\n",
    "Before running this notebook, you will need to configure your environment using the [Configure Environment](../configure_and_validate.ipynb) notebook. Please stop here, open and run that notebook, then return to this notebook.\n",
    "\n",
    "If you are using the FABRIC JupyterHub many of the environment variables will be automatically configured for you.  You will still need to set your bastion username, upload your bastion private key, and set the path to where you put your bastion private key. Your bastion username and private key should already be in your possession.  \n",
    "\n",
    "After following all steps of the Configuring Environment notebook, you should be able to run this notebook without additional steps.\n",
    "\n",
    "Next, you will need to have setup the slice in FABRIC using the [Create Slice](../create_slice.ipynb) notebook.\n",
    "\n",
    "More information about accessing your experiments through the FABRIC bastion hosts can be found [here](https://learn.fabric-testbed.net/knowledge-base/logging-into-fabric-vms/).\n",
    " "
   ]
  },
  {
   "cell_type": "markdown",
   "metadata": {
    "tags": []
   },
   "source": [
    "## Step 2: Setup the Environment for this Notebook\n",
    "\n",
    "### Step 2.1: Import FABRIC API and other libraries"
   ]
  },
  {
   "cell_type": "code",
   "execution_count": null,
   "metadata": {
    "tags": []
   },
   "outputs": [],
   "source": [
    "import json\n",
    "import traceback\n",
    "\n",
    "from fabrictestbed_extensions.fablib.fablib import FablibManager as fablib_manager\n",
    "\n",
    "fablib = fablib_manager()\n",
    "\n",
    "fablib.show_config();\n"
   ]
  },
  {
   "cell_type": "markdown",
   "metadata": {},
   "source": [
    "### (Optional): Query for Available Testbed Resources and Settings\n",
    "\n",
    "This optional command queries the FABRIC services to find the available resources. It may be useful for finding a site with available capacity and other settings or available resources."
   ]
  },
  {
   "cell_type": "code",
   "execution_count": null,
   "metadata": {},
   "outputs": [],
   "source": [
    "# Comment out lists you do not want to view\n",
    "\n",
    "# List available sites\n",
    "# fablib.list_sites()\n",
    "# List available hosts\n",
    "# fablib.list_hosts(includes=[\"CERN\", \"AMST\"])\n",
    "# List available images that can be used for the nodes\n",
    "fablib.get_image_names()"
   ]
  },
  {
   "cell_type": "markdown",
   "metadata": {},
   "source": [
    "### Step 2.2: Configure the parameters, get Attributes, and add the nodes\n",
    "Can be used to set the corresponding slice and other variables used for subsequent cells."
   ]
  },
  {
   "cell_type": "code",
   "execution_count": null,
   "metadata": {},
   "outputs": [],
   "source": [
    "# ========== Step 1: Configure Parameters ==========\n",
    "slice_name = 'DYNAMOS'\n",
    "# Set image to ubuntu specific (used in FABRIC Kubernetes cluster example)\n",
    "image = \"default_ubuntu_20\"\n",
    "# Site used for the nodes (Use the UvA site: AMST)\n",
    "site = \"AMST\"\n",
    "# Host of the site used for the nodes (Use specific host to avoid error occurred without it: \"Timeout waiting for the server to come up\")\n",
    "site_host = \"amst-w1.fabric-testbed.net\"\n",
    "# Nodes:\n",
    "node1_name = 'Node1'\n",
    "node2_name = 'Node2'\n",
    "# TODO: more variables and below needed?\n",
    "node1_nic_name = 'NIC1'\n",
    "node2_nic_name = 'NIC2'\n",
    "network_name = 'NET1'\n",
    "\n",
    "# ========== Step 2: Get and Print Node Attributes ==========\n",
    "try:\n",
    "    # Get slice by name: https://fabric-fablib.readthedocs.io/en/latest/fablib.html#fabrictestbed_extensions.fablib.fablib.FablibManager.get_slice\n",
    "    slice = fablib.get_slice(name=slice_name)\n",
    "\n",
    "    # Add Nodes with the specific variables\n",
    "    # Also validate the node and raise an exception in case of failure\n",
    "    node1 = slice.add_node(name=node1_name, site=site, validate=True, raise_exception=True, host=site_host, image=image)\n",
    "    node2 = slice.add_node(name=node2_name, site=site, validate=True, raise_exception=True, host=site_host, image=image)\n",
    "\n",
    "    # Submit the updates. Wait until the state is finished and use an interval and a longer timeout to make sure all nodes are created\n",
    "    # Progress shows an indicator of the current progression.\n",
    "    slice.submit(wait=True, wait_timeout=3600, wait_interval=20, progress=True, wait_jupyter='text')\n",
    "    # # Get slice nodes\n",
    "    # for node in slice.get_nodes():\n",
    "    #     print(f\"{node}\")\n",
    "    # TODO: set nodes here as well\n",
    "    \n",
    "except Exception as e:\n",
    "    print(f\"Fail: {e}\")\n",
    "    traceback.print_exc()"
   ]
  },
  {
   "cell_type": "markdown",
   "metadata": {},
   "source": [
    "### Step 2.3: Observe the Slice's Node Attributes\n",
    "This step verifies the creation of the nodes.\n",
    "\n",
    "#### List the nodes"
   ]
  },
  {
   "cell_type": "code",
   "execution_count": null,
   "metadata": {},
   "outputs": [],
   "source": [
    "slice.list_nodes();"
   ]
  },
  {
   "cell_type": "markdown",
   "metadata": {},
   "source": [
    "#### Run a test Experiment to Validate the nodes\n",
    "\n",
    "Most experiments will require automated configuration and execution. You can use the fablib library to execute arbitrary commands on your node. \n",
    "\n",
    "The following code demonstrates how to use fablib to execute a \"Hello, FABRIC\" bash script. The library uses the bastion and VM keys defined at the top of this notebook to jump through the bastion host and execute the script."
   ]
  },
  {
   "cell_type": "code",
   "execution_count": null,
   "metadata": {},
   "outputs": [],
   "source": [
    "#node = slice.get_node('Node1')\n",
    "\n",
    "for node in slice.get_nodes():\n",
    "    stdout, stderr = node.execute('echo Hello, FABRIC from node `hostname -s`')"
   ]
  },
  {
   "cell_type": "markdown",
   "metadata": {
    "tags": []
   },
   "source": [
    "## Step 3: Configure Kubernetes cluster\n",
    "\n",
    "This step configures the Kubernetes cluster using scripts in this folder.\n",
    "\n",
    "### Configure Control Plane node\n",
    "TODO: also configure worker node."
   ]
  },
  {
   "cell_type": "code",
   "execution_count": null,
   "metadata": {
    "tags": []
   },
   "outputs": [],
   "source": [
    "try:\n",
    "    # TODO: now also maybe some other steps need to happen before this, and the scripts need to be created to configure the control plane and worker, etc.\n",
    "    # Upload script file to the nodes\n",
    "    file_attributes = node1.upload_file(local_file_path=\"config_control_plane.sh\", remote_file_path=\"config_control_plane.sh\")\n",
    "    # Execute the script\n",
    "    stdout, stderr = node1.execute(f\"chmod +x config_control_plane.sh && ./config_control_plane.sh\")\n",
    "\n",
    "except Exception as e:\n",
    "    print(f\"Exception: {e}\")"
   ]
  }
 ],
 "metadata": {
  "kernelspec": {
   "display_name": "Python 3 (ipykernel)",
   "language": "python",
   "name": "python3"
  },
  "language_info": {
   "codemirror_mode": {
    "name": "ipython",
    "version": 3
   },
   "file_extension": ".py",
   "mimetype": "text/x-python",
   "name": "python",
   "nbconvert_exporter": "python",
   "pygments_lexer": "ipython3",
   "version": "3.11.9"
  }
 },
 "nbformat": 4,
 "nbformat_minor": 4
}
