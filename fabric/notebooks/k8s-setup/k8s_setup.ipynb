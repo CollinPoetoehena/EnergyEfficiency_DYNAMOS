{
 "cells": [
  {
   "cell_type": "markdown",
   "metadata": {
    "tags": []
   },
   "source": [
    "# Setup Kubernetes environment for DYNAMOS in FABRIC \n",
    "\n",
    "This Jupyter notebook will create the Kubernetes environment in FABRIC after the slice and corresponding nodes have been created.\n",
    "\n",
    "FABRIC API docs: https://fabric-fablib.readthedocs.io/en/latest/index.html\n",
    "\n",
    "\n",
    "## Step 1:  Configure the Environment & Create Slice\n",
    "\n",
    "Before running this notebook, you will need to configure your environment using the [Configure Environment](../configure_and_validate.ipynb) notebook. Please stop here, open and run that notebook, then return to this notebook.\n",
    "\n",
    "If you are using the FABRIC JupyterHub many of the environment variables will be automatically configured for you.  You will still need to set your bastion username, upload your bastion private key, and set the path to where you put your bastion private key. Your bastion username and private key should already be in your possession.  \n",
    "\n",
    "After following all steps of the Configuring Environment notebook, you should be able to run this notebook without additional steps.\n",
    "\n",
    "Next, you will need to have setup the slice in FABRIC using the [Create Slice](../create_slice.ipynb) notebook.\n",
    "\n",
    "More information about accessing your experiments through the FABRIC bastion hosts can be found [here](https://learn.fabric-testbed.net/knowledge-base/logging-into-fabric-vms/).\n",
    " "
   ]
  },
  {
   "cell_type": "markdown",
   "metadata": {
    "tags": []
   },
   "source": [
    "## Step 2: Setup the Environment for this Notebook\n",
    "\n",
    "### Import FABRIC API and other libraries"
   ]
  },
  {
   "cell_type": "code",
   "execution_count": null,
   "metadata": {
    "tags": []
   },
   "outputs": [],
   "source": [
    "import json\n",
    "import traceback\n",
    "\n",
    "from fabrictestbed_extensions.fablib.fablib import FablibManager as fablib_manager\n",
    "\n",
    "fablib = fablib_manager()\n",
    "\n",
    "fablib.show_config();\n"
   ]
  },
  {
   "cell_type": "markdown",
   "metadata": {},
   "source": [
    "### Configure the parameters \n",
    "Can be used to set the corresponding nodes and other variables used for subsequent cells."
   ]
  },
  {
   "cell_type": "code",
   "execution_count": null,
   "metadata": {},
   "outputs": [],
   "source": [
    "slice_name = 'DYNAMOS'\n",
    "node1_name = 'Node1'\n",
    "# TODO: create Node2 in create_slice.ipynb?\n",
    "node2_name = 'Node2'\n",
    "# TODO: more and below needed?\n",
    "node1_nic_name = 'NIC1'\n",
    "node2_nic_name = 'NIC2'\n",
    "network_name = 'NET1'"
   ]
  },
  {
   "cell_type": "markdown",
   "metadata": {},
   "source": [
    "### Get and Print Node Attributes\n",
    "This gets and prints the node attributes required for subsequent steps. It also sets some variables, such as node1, which are also used for subsequent steps."
   ]
  },
  {
   "cell_type": "code",
   "execution_count": null,
   "metadata": {},
   "outputs": [],
   "source": [
    "try:\n",
    "    # Get slice by name: https://fabric-fablib.readthedocs.io/en/latest/fablib.html#fabrictestbed_extensions.fablib.fablib.FablibManager.get_slice\n",
    "    slice = fablib.get_slice(name=slice_name)\n",
    "    # Get slice nodes\n",
    "    for node in slice.get_nodes():\n",
    "        print(f\"{node}\")\n",
    "    \n",
    "except Exception as e:\n",
    "    print(f\"Fail: {e}\")\n",
    "    traceback.print_exc()"
   ]
  },
  {
   "cell_type": "markdown",
   "metadata": {
    "tags": []
   },
   "source": [
    "## Step 4: Configure Kubernetes cluster\n",
    "\n",
    "This step configures the Kubernetes cluster using scripts in this folder.\n",
    "\n",
    "### Configure Control Plane node\n",
    "TODO: also configure worker node."
   ]
  },
  {
   "cell_type": "code",
   "execution_count": null,
   "metadata": {
    "tags": []
   },
   "outputs": [],
   "source": [
    "try:\n",
    "    # TODO: now also maybe some other steps need to happen before this, and the scripts need to be created to configure the control plane and worker, etc.\n",
    "    # Upload script file to the nodes\n",
    "    file_attributes = node1.upload_file(local_file_path=\"config_control_plane.sh\", remote_file_path=\"config_control_plane.sh\")\n",
    "    # Execute the script\n",
    "    stdout, stderr = node1.execute(f\"chmod +x config_control_plane.sh && ./config_control_plane.sh\")\n",
    "\n",
    "except Exception as e:\n",
    "    print(f\"Exception: {e}\")"
   ]
  }
 ],
 "metadata": {
  "kernelspec": {
   "display_name": "Python 3 (ipykernel)",
   "language": "python",
   "name": "python3"
  },
  "language_info": {
   "codemirror_mode": {
    "name": "ipython",
    "version": 3
   },
   "file_extension": ".py",
   "mimetype": "text/x-python",
   "name": "python",
   "nbconvert_exporter": "python",
   "pygments_lexer": "ipython3",
   "version": "3.11.9"
  }
 },
 "nbformat": 4,
 "nbformat_minor": 4
}
