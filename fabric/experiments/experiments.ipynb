{
    "cells": [
        {
            "cell_type": "markdown",
            "metadata": {
                "tags": []
            },
            "source": [
                "# Experiments for the Energy Efficiency Master thesis in DYNAMOS\n",
                "\n",
                "This Jupyter notebook is used for the experiments for the master thesis in DYNAMOS about energy efficiency.\n",
                "\n",
                "FABRIC API docs: https://fabric-fablib.readthedocs.io/en/latest/index.html\n",
                "\n",
                "\n",
                "## Step 1: Configure the Environment Configure the Environment (has to be done once in the Jupyter Hub environment), Create Slice, Setup K8s Cluster & Configure DYNAMOS\n",
                "\n",
                "Before running this notebook, you will need to configure your environment using the [Configure Environment](../configure_and_validate.ipynb) notebook. Please stop here, open and run that notebook, then return to this notebook. Note: this has to be done only once in the Jupyter Hub environment (unless configuration is removed/deleted of course).\n",
                "\n",
                "If you are using the FABRIC JupyterHub many of the environment variables will be automatically configured for you.  You will still need to set your bastion username, upload your bastion private key, and set the path to where you put your bastion private key. Your bastion username and private key should already be in your possession.  \n",
                "\n",
                "After following all steps of the Configuring Environment notebook, you should be able to run this notebook without additional steps.\n",
                "\n",
                "Next, you will need to have setup the slice in FABRIC using the [Create Slice](../create_slice.ipynb) notebook.\n",
                "\n",
                "Finally, configure the kubernetes environment using the [Configure Kubernetes](../k8s-cluster-setup/k8s_setup.ipynb) and [Configure DYNAMOS Specifically](../dynamos/DYNAMOS_setup.ipynb) notebooks.\n",
                "\n",
                "More information about accessing your experiments through the FABRIC bastion hosts can be found [here](https://learn.fabric-testbed.net/knowledge-base/logging-into-fabric-vms/).\n",
                " "
            ]
        },
        {
            "cell_type": "markdown",
            "metadata": {
                "tags": []
            },
            "source": [
                "## Step 2: Setup the Environment for this Notebook\n",
                "\n",
                "### Step 2.1: Import FABRIC API and other libraries"
            ]
        },
        {
            "cell_type": "code",
            "execution_count": null,
            "metadata": {
                "tags": []
            },
            "outputs": [],
            "source": [
                "import json\n",
                "import traceback\n",
                "import datetime\n",
                "\n",
                "from fabrictestbed_extensions.fablib.fablib import FablibManager as fablib_manager\n",
                "\n",
                "fablib = fablib_manager()\n",
                "\n",
                "fablib.show_config();\n"
            ]
        },
        {
            "cell_type": "markdown",
            "metadata": {},
            "source": [
                "### Step 2.2: Configure the parameters and variables\n",
                "Can be used to set the corresponding slice and other variables used for subsequent cells."
            ]
        },
        {
            "cell_type": "code",
            "execution_count": null,
            "metadata": {},
            "outputs": [],
            "source": [
                "slice_name = 'DYNAMOS_EnergyEfficiency'\n",
                "# Nodes:\n",
                "node1_name = 'k8s-control-plane'\n",
                "node2_name = 'dynamos-core'\n",
                "node3_name = 'vu'\n",
                "node4_name = 'uva'\n",
                "node5_name = 'surf'"
            ]
        },
        {
            "cell_type": "markdown",
            "metadata": {},
            "source": [
                "### Step 2.3: Extend the Slice before Running Experiments\n",
                "This code extends the slice's end date to two weeks (the current maximum lease time) to make sure that the slice can be used for a longer period of time."
            ]
        },
        {
            "cell_type": "code",
            "execution_count": null,
            "metadata": {},
            "outputs": [],
            "source": [
                "# TODO: the function is working, but it does not save in the slice information afterwards, which is likely a bug in FABRIC. So, for now just skip this part, \n",
                "# the slice is created with a 2 weeks period, which should be enough and otherwise the steps to create it can be repeated\n",
                "try:\n",
                "    # Get slice by name: https://fabric-fablib.readthedocs.io/en/latest/fablib.html#fabrictestbed_extensions.fablib.fablib.FablibManager.get_slice\n",
                "    slice = fablib.get_slice(name=slice_name)\n",
                "    # Print slice information for debugging purposes\n",
                "    slice.show()\n",
                "    # Print lease end before\n",
                "    print(f\"Lease End (UTC) Before        : {slice.get_lease_end()}\")\n",
                "\n",
                "    # See https://github.com/fabric-testbed/jupyter-examples/blob/main/fabric_examples/fablib_api/renew_slice/renew_slice.ipynb\n",
                "    # Calculate the end date for now + x days\n",
                "    end_date = (datetime.datetime.now(datetime.timezone.utc) + datetime.timedelta(days=1)).strftime(\"%Y-%m-%d %H:%M:%S %z\")\n",
                "    # Renew the slice with the calculated end date\n",
                "    slice.renew(end_date)\n",
                "\n",
                "    # Verify changes afterwards\n",
                "    print(f\"Lease End (UTC) After       : {slice.get_lease_end()}\")\n",
                "except Exception as e:\n",
                "    print(f\"Exception: {e}\")\n",
                "    traceback.print_exc()"
            ]
        },
        {
            "cell_type": "markdown",
            "metadata": {},
            "source": [
                "## Step 3: Execute Experiments\n",
                "TODO: explain here as well how to switch at the end, such as TODO:refer to fabric/dynamos setup to upload charts and then run after loading the dynamos-configs.sh: redeploy_structurally\n",
                "TODO\n",
                "\n",
                "### Step 3.1: Prepare FABRIC Kubernetes environment\n",
                "TODO: add here any things that need to be done, such as port-forward, etc.?\n",
                "\n",
                "```sh\n",
                "TODO: here port-forward on k8s-control-plane node via SSH session? Cannot do node execute, since that is not persistent likely.\n",
                "```"
            ]
        },
        {
            "cell_type": "markdown",
            "metadata": {},
            "source": [
                "### Step 3.2: Execute experiments\n",
                "TODO: here load the python files onto the k8s-control-plane node and execute them\n",
                "TODO: add something so that I can intermediately get the resulting files to my local machine so I can upload them to GitHub.\n",
                "TODO: run from which node, dynamos-core or k8s-control-plane node?"
            ]
        }
    ],
    "metadata": {
        "kernelspec": {
            "display_name": "Python 3 (ipykernel)",
            "language": "python",
            "name": "python3"
        },
        "language_info": {
            "codemirror_mode": {
                "name": "ipython",
                "version": 3
            },
            "file_extension": ".py",
            "mimetype": "text/x-python",
            "name": "python",
            "nbconvert_exporter": "python",
            "pygments_lexer": "ipython3",
            "version": "3.11.9"
        }
    },
    "nbformat": 4,
    "nbformat_minor": 4
}
