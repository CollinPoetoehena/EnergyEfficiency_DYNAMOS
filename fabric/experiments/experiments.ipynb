{
    "cells": [
        {
            "cell_type": "markdown",
            "metadata": {
                "tags": []
            },
            "source": [
                "# Experiments for the Energy Efficiency Master thesis in DYNAMOS\n",
                "\n",
                "This Jupyter notebook is used for the experiments for the master thesis in DYNAMOS about energy efficiency.\n",
                "\n",
                "FABRIC API docs: https://fabric-fablib.readthedocs.io/en/latest/index.html\n",
                "\n",
                "\n",
                "## Step 1: Configure the Environment Configure the Environment (has to be done once in the Jupyter Hub environment), Create Slice, Setup K8s Cluster & Configure DYNAMOS\n",
                "\n",
                "Before running this notebook, you will need to configure your environment using the [Configure Environment](../configure_and_validate.ipynb) notebook. Please stop here, open and run that notebook, then return to this notebook. Note: this has to be done only once in the Jupyter Hub environment (unless configuration is removed/deleted of course).\n",
                "\n",
                "If you are using the FABRIC JupyterHub many of the environment variables will be automatically configured for you.  You will still need to set your bastion username, upload your bastion private key, and set the path to where you put your bastion private key. Your bastion username and private key should already be in your possession.  \n",
                "\n",
                "After following all steps of the Configuring Environment notebook, you should be able to run this notebook without additional steps.\n",
                "\n",
                "Next, you will need to have setup the slice in FABRIC using the [Create Slice](../create_slice.ipynb) notebook.\n",
                "\n",
                "Finally, configure the kubernetes environment using the [Configure Kubernetes](../k8s-cluster-setup/k8s_setup.ipynb) and [Configure DYNAMOS Specifically](../dynamos/DYNAMOS_setup.ipynb) notebooks.\n",
                "\n",
                "More information about accessing your experiments through the FABRIC bastion hosts can be found [here](https://learn.fabric-testbed.net/knowledge-base/logging-into-fabric-vms/).\n",
                " "
            ]
        },
        {
            "cell_type": "markdown",
            "metadata": {
                "tags": []
            },
            "source": [
                "## Step 2: Setup the Environment for this Notebook\n",
                "\n",
                "### Step 2.1: Import FABRIC API and other libraries"
            ]
        },
        {
            "cell_type": "code",
            "execution_count": null,
            "metadata": {
                "tags": []
            },
            "outputs": [],
            "source": [
                "import json\n",
                "import traceback\n",
                "import datetime\n",
                "\n",
                "from fabrictestbed_extensions.fablib.fablib import FablibManager as fablib_manager\n",
                "\n",
                "fablib = fablib_manager()\n",
                "\n",
                "fablib.show_config();\n"
            ]
        },
        {
            "cell_type": "markdown",
            "metadata": {},
            "source": [
                "### Step 2.2: Configure the parameters and variables\n",
                "Can be used to set the corresponding slice and other variables used for subsequent cells."
            ]
        },
        {
            "cell_type": "code",
            "execution_count": null,
            "metadata": {},
            "outputs": [],
            "source": [
                "slice_name = 'DYNAMOS_EnergyEfficiency'\n",
                "# Nodes:\n",
                "node1_name = 'k8s-control-plane'\n",
                "node2_name = 'dynamos-core'\n",
                "node3_name = 'vu'\n",
                "node4_name = 'uva'\n",
                "node5_name = 'surf'"
            ]
        },
        {
            "cell_type": "markdown",
            "metadata": {},
            "source": [
                "### Step 2.3: Extend the Slice before Running Experiments\n",
                "This code extends the slice's end date to two weeks (the current maximum lease time) to make sure that the slice can be used for a longer period of time."
            ]
        },
        {
            "cell_type": "code",
            "execution_count": null,
            "metadata": {},
            "outputs": [],
            "source": [
                "# TODO: the function is working, but it does not save in the slice information afterwards, which is likely a bug in FABRIC. So, for now just skip this part, \n",
                "# the slice is created with a 2 weeks period, which should be enough and otherwise the steps to create it can be repeated\n",
                "try:\n",
                "    # Get slice by name: https://fabric-fablib.readthedocs.io/en/latest/fablib.html#fabrictestbed_extensions.fablib.fablib.FablibManager.get_slice\n",
                "    slice = fablib.get_slice(name=slice_name)\n",
                "    # Print slice information for debugging purposes\n",
                "    slice.show()\n",
                "    # Print lease end before\n",
                "    print(f\"Lease End (UTC) Before        : {slice.get_lease_end()}\")\n",
                "\n",
                "    # See https://github.com/fabric-testbed/jupyter-examples/blob/main/fabric_examples/fablib_api/renew_slice/renew_slice.ipynb\n",
                "    # Calculate the end date for now + x days\n",
                "    end_date = (datetime.datetime.now(datetime.timezone.utc) + datetime.timedelta(days=1)).strftime(\"%Y-%m-%d %H:%M:%S %z\")\n",
                "    # Renew the slice with the calculated end date\n",
                "    slice.renew(end_date)\n",
                "\n",
                "    # Verify changes afterwards\n",
                "    print(f\"Lease End (UTC) After       : {slice.get_lease_end()}\")\n",
                "except Exception as e:\n",
                "    print(f\"Exception: {e}\")\n",
                "    traceback.print_exc()"
            ]
        },
        {
            "cell_type": "markdown",
            "metadata": {},
            "source": [
                "## Step 3: Execute Experiments\n",
                "TODO: explain here as well how to switch at the end, such as TODO:refer to fabric/dynamos setup to upload charts and then run after loading the dynamos-configs.sh: redeploy_structurally\n",
                "TODO\n",
                "\n",
                "### Step 3.1: Prepare FABRIC Kubernetes environment\n",
                "TODO: add here any things that need to be done, such as port-forward, etc.?\n",
                "\n",
                "```sh\n",
                "TODO: here port-forward on k8s-control-plane node via SSH session? Cannot do node execute, since that is not persistent likely.\n",
                "```"
            ]
        },
        {
            "cell_type": "markdown",
            "metadata": {},
            "source": [
                "### Step 3.2: Prepare Node for Experiments\n",
                "TODO: explain this prepares the node, needs to be done once.\n",
                "TODO: here load the python files onto the node and execute them\n",
                "TODO: run from which node, dynamos-core or k8s-control-plane node?"
            ]
        },
        {
            "cell_type": "code",
            "execution_count": null,
            "metadata": {},
            "outputs": [],
            "source": [
                "try:\n",
                "    # Get slice by name: https://fabric-fablib.readthedocs.io/en/latest/fablib.html#fabrictestbed_extensions.fablib.fablib.FablibManager.get_slice\n",
                "    slice = fablib.get_slice(name=slice_name)\n",
                "    # Get the correct node to run the experiment on\n",
                "    # TODO: which node, dynamos-core or k8s-control-plane node? For now I think k8s-control-plane node, since we execute all the scripts there, and dynamos-core is required for the rest.\n",
                "    node = slice.get_node(name=node1_name)\n",
                "    # Make sure the directory exists:\n",
                "    node.execute(\"mkdir -p ~/experiments\")\n",
                "    # Upload required files for the experiments preparation (cannot do ~, this will cause No such file, need to do relative path from home of the node):\n",
                "    node.upload_file(local_file_path=\"prepare_node.sh\", remote_file_path=\"./experiments/prepare_node.sh\")\n",
                "\n",
                "    # Add necessary permissions and execute the script to prepare the node environment\n",
                "    stdout, stderr = node.execute(f\"chmod +x ./experiments/prepare_node.sh && ./experiments/prepare_node.sh\")\n",
                "except Exception as e:\n",
                "    print(f\"Fail: {e}\")\n",
                "    traceback.print_exc()"
            ]
        },
        {
            "cell_type": "markdown",
            "metadata": {},
            "source": [
                "### Step 3.3: Execute/Run Actual Experiments\n",
                "TODO: explain, here it now runs the actual experiments on the node, this can be done multiple times by changing the variables used.\n",
                "TODO: add something so that I can intermediately get the resulting files to my local machine so I can upload them to GitHub."
            ]
        },
        {
            "cell_type": "code",
            "execution_count": null,
            "metadata": {},
            "outputs": [],
            "source": [
                "# Change these variables for different experiments, such as archetypes, implementations, etc. \n",
                "# See energy-efficiency/experiments/README.md for explanation on how to use the script and some examples. And see execute_experiments.py for options.\n",
                "CURRENT_EXP_ARCHETYPE = \"ComputeToData\"\n",
                "CURRENT_EXP_REPS = 30\n",
                "CURRENT_EXP_NAME = \"baseline\"\n",
                "try:\n",
                "    # Upload required files for the experiments:\n",
                "    node.upload_file(local_file_path=\"constants.py\", remote_file_path=\"./experiments/constants.py\")\n",
                "    node.upload_file(local_file_path=\"execute_experiments.py\", remote_file_path=\"./experiments/execute_experiments.py\")\n",
                "    \n",
                "    # Run the experiment. This needs to run the python script to allow the output to be added in the notebook output, with a separate script that did not happen\n",
                "    stdout, stderr = node.execute(\n",
                "        (\n",
                "            # Make the script executable and \n",
                "            f\"chmod +x ./experiments/execute_experiments.py && \"\n",
                "            # Go to the corresponding location\n",
                "            f\"cd ~/experiments && \"\n",
                "            # Activate the venv\n",
                "            f\"source dynamos-env/bin/activate && \"\n",
                "            # Execute the actual experiments. Use -u to use unbuffered mode for stdout, stderr, and stdin, \n",
                "            # so that print() calls and logs from inside the python script appear live (or at least flush immediately after each action)\n",
                "            f\"python3 -u execute_experiments.py {CURRENT_EXP_ARCHETYPE} {CURRENT_EXP_REPS} {CURRENT_EXP_NAME}\"\n",
                "        )\n",
                "    )\n",
                "\n",
                "except Exception as e:\n",
                "    print(f\"Fail: {e}\")\n",
                "    traceback.print_exc()"
            ]
        }
    ],
    "metadata": {
        "kernelspec": {
            "display_name": "Python 3 (ipykernel)",
            "language": "python",
            "name": "python3"
        },
        "language_info": {
            "codemirror_mode": {
                "name": "ipython",
                "version": 3
            },
            "file_extension": ".py",
            "mimetype": "text/x-python",
            "name": "python",
            "nbconvert_exporter": "python",
            "pygments_lexer": "ipython3",
            "version": "3.11.9"
        }
    },
    "nbformat": 4,
    "nbformat_minor": 4
}
