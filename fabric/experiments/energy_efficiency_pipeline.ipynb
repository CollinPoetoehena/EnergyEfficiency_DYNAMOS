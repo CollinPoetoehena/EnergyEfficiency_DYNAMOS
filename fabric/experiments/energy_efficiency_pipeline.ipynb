{
 "cells": [
  {
   "cell_type": "markdown",
   "id": "c04e0695",
   "metadata": {},
   "source": [
    "# Using the Energy Efficiency Report Pipeline in FABRIC"
   ]
  }
 ],
 "metadata": {
  "language_info": {
   "name": "python"
  }
 },
 "nbformat": 4,
 "nbformat_minor": 5
}
