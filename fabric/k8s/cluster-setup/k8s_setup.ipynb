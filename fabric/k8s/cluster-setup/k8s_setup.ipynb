{
 "cells": [
  {
   "cell_type": "markdown",
   "metadata": {
    "tags": []
   },
   "source": [
    "# Setup Kubernetes environment for DYNAMOS in FABRIC \n",
    "\n",
    "This Jupyter notebook will create the Kubernetes environment in FABRIC after the slice and corresponding nodes have been created.\n",
    "\n",
    "FABRIC API docs: https://fabric-fablib.readthedocs.io/en/latest/index.html\n",
    "\n",
    "\n",
    "## Step 1: Configure the Environment (has to be done once in the Jupyter Hub environment) & Create Slice\n",
    "\n",
    "Before running this notebook, you will need to configure your environment using the [Configure Environment](../../configure_and_validate.ipynb) notebook. Please stop here, open and run that notebook, then return to this notebook. Note: this has to be done only once in the Jupyter Hub environment (unless configuration is removed/deleted of course).\n",
    "\n",
    "If you are using the FABRIC JupyterHub many of the environment variables will be automatically configured for you.  You will still need to set your bastion username, upload your bastion private key, and set the path to where you put your bastion private key. Your bastion username and private key should already be in your possession.  \n",
    "\n",
    "After following all steps of the Configuring Environment notebook, you should be able to run this notebook without additional steps.\n",
    "\n",
    "Next, you will need to have setup the slice in FABRIC using the [Create Slice](../../create_slice.ipynb) notebook.\n",
    "\n",
    "More information about accessing your experiments through the FABRIC bastion hosts can be found [here](https://learn.fabric-testbed.net/knowledge-base/logging-into-fabric-vms/).\n",
    " "
   ]
  },
  {
   "cell_type": "markdown",
   "metadata": {},
   "source": [
    "## Step 2: Setup the Environment for this Notebook\n",
    "\n",
    "### Step 2.1: Import FABRIC API and other libraries"
   ]
  },
  {
   "cell_type": "code",
   "execution_count": null,
   "metadata": {
    "tags": []
   },
   "outputs": [],
   "source": [
    "import json\n",
    "import traceback\n",
    "\n",
    "from fabrictestbed_extensions.fablib.fablib import FablibManager as fablib_manager\n",
    "\n",
    "fablib = fablib_manager()\n",
    "\n",
    "fablib.show_config();\n"
   ]
  },
  {
   "cell_type": "markdown",
   "metadata": {},
   "source": [
    "### Step 2.2: Configure the parameters and variables\n",
    "Can be used to set the corresponding slice and other variables used for subsequent cells."
   ]
  },
  {
   "cell_type": "code",
   "execution_count": null,
   "metadata": {},
   "outputs": [],
   "source": [
    "slice_name = 'DYNAMOS_EnergyEfficiency'\n",
    "# Nodes:\n",
    "node1_name = 'Node1'\n",
    "node2_name = 'Node2'\n",
    "node3_name = 'Node3'\n",
    "# Network:\n",
    "network_name = 'NET1'"
   ]
  },
  {
   "cell_type": "markdown",
   "metadata": {},
   "source": [
    "## Step 3: Configure Network\n",
    "\n",
    "### Step 3.1: Configure FABRIC Network for Nodes\n",
    "This step configures the network by adding IP addresses to the nodes in the network so that they can communicate with each other over IPv4."
   ]
  },
  {
   "cell_type": "code",
   "execution_count": null,
   "metadata": {},
   "outputs": [],
   "source": [
    "try:\n",
    "    # ========== Step 1: Get Slice and Network ==========\n",
    "    # Get the slice\n",
    "    # Get slice by name: https://fabric-fablib.readthedocs.io/en/latest/fablib.html#fabrictestbed_extensions.fablib.fablib.FablibManager.get_slice\n",
    "    slice = fablib.get_slice(name=slice_name)\n",
    "    # Get the network\n",
    "    network = slice.get_network(name=network_name)\n",
    "    # Get available ips\n",
    "    network_available_ips = network.get_available_ips()\n",
    "    # Print network\n",
    "    print(f\"{network}\")\n",
    "\n",
    "    # ========== Step 2: Configure Nodes and node interfaces ==========\n",
    "    for node in slice.get_nodes():\n",
    "        print(f\"Node: {node.get_name()}\")\n",
    "        node_iface = node.get_interface(network_name=network_name)\n",
    "        # Set IP address for this node (IPv4) to the first available ip address\n",
    "        node_address = network_available_ips.pop(0)\n",
    "        node_iface.ip_addr_add(addr=node_address, subnet=network.get_subnet())\n",
    "        #node.ip_route_add(subnet=network.get_subnet(), gateway=network.get_gateway())\n",
    "        \n",
    "        # Print the IP to be used with Kubespray inventory\n",
    "        print(f\"IP for Kubespray inventory {node.get_name()}: {node_address}\")\n",
    "\n",
    "        # # Debug: Interface IP info and routing table\n",
    "        # stdout, stderr = node.execute(f'ip addr show {node_iface.get_os_interface()}')\n",
    "        # print(stdout)\n",
    "        # stdout, stderr = node.execute(f'ip route list')\n",
    "        # print(stdout)\n",
    "    \n",
    "except Exception as e:\n",
    "    print(f\"Exception: {e}\")\n",
    "    traceback.print_exc()"
   ]
  },
  {
   "cell_type": "markdown",
   "metadata": {},
   "source": [
    "### Step 3.2: Get SSH Commands\n",
    "This step prints the SSH commands that can be used with the guide below to SSH into the VMs."
   ]
  },
  {
   "cell_type": "code",
   "execution_count": null,
   "metadata": {},
   "outputs": [],
   "source": [
    "# Print the necessary information\n",
    "try:\n",
    "    # Get slice nodes\n",
    "    for node in slice.get_nodes():\n",
    "        print(f\"Node: {node.get_name()}\")\n",
    "        # Get the original SSH command\n",
    "        original_ssh_command = node.get_ssh_command()\n",
    "        # Print SSH commands to get into the nodes\n",
    "        print(f\"  SSH Command from FABRIC: {original_ssh_command}\")\n",
    "        # Replace the file paths in the SSH command\n",
    "        updated_ssh_command = original_ssh_command.replace(\n",
    "            \"/home/fabric/work/fabric_config/slice_key\", \"~/.ssh/slice_key\"\n",
    "        ).replace(\n",
    "            \"/home/fabric/work/fabric_config/ssh_config\", \"ssh_config\"\n",
    "        )\n",
    "        # Print the updated SSH command\n",
    "        print(f\"  SSH Command locally (ensuring it is saved according to below steps): {updated_ssh_command}\")\n",
    "    \n",
    "except Exception as e:\n",
    "    print(f\"Fail: {e}\")\n",
    "    traceback.print_exc()"
   ]
  },
  {
   "cell_type": "markdown",
   "metadata": {},
   "source": [
    "#### Run the SSH Commands\n",
    "To run the SSH Commands follow these steps:\n",
    "1. From the Jupyter Notebook Hub from FABRIC, download the /fabric_config/fabric_bastion_key, /fabric_config/slice_key and /fabric_config/ssh_config files\n",
    "2. Add the ssh_config file to this project under /fabric/fabric_config, and change the /fabric_config/ssh_config \"IdentityFile\" entry to \"~/.ssh/fabric_bastion_key\", this is the new path to the bastion key of FABRIC from where you will be running the file.\n",
    "\n",
    "3. Execute these steps to save the SSH files savely on your local machine and avoid problems\n",
    "```sh\n",
    "# Open a Linux terminal, such as WSL after opening a CMD in Windows:\n",
    "wsl\n",
    "# Navigate to the Downloads directory\n",
    "cd Downloads\n",
    "# Create a directory called ssh to store the files\n",
    "mkdir -p ~/.ssh\n",
    "\n",
    "# Copy the key files to the SSH directory\n",
    "cp slice_key ~/.ssh/slice_key\n",
    "cp fabric_bastion_key ~/.ssh/fabric_bastion_key\n",
    "# Update permissions\n",
    "chmod 600 ~/.ssh/slice_key\n",
    "chmod 600 ~/.ssh/fabric_bastion_key\n",
    "# Navigate to the SSH directory to verify the files\n",
    "cd ~/.ssh\n",
    "# List files including permissions (-l)\n",
    "ls -l\n",
    "\n",
    "# Navigate to the fabric_config folder of this project, such as:\n",
    "cd /mnt/c/Users/cpoet/VSC_Projs/EnergyEfficiency_DYNAMOS/fabric/fabric_config\n",
    "# Then run the command from the previous step, such as:\n",
    "ssh -i ~/.ssh/slice_key -F ssh_config ubuntu@2001:610:2d0:fabc:f816:3eff:fe65:a464\n",
    "# To exit SSH access, type \"exit\" and press Enter\n",
    "```\n",
    "4. Now you can SSH into the nodes using the printed commands."
   ]
  },
  {
   "cell_type": "markdown",
   "metadata": {
    "tags": []
   },
   "source": [
    "## Step 4: Configure Kubernetes Cluster with Kubespray\n",
    "\n",
    "This step configures the Kubernetes cluster.\n",
    "\n",
    "Go to the README.md in this folder of the GitHub project and follow the steps for \"Configure Kubernetes cluster/environment\". After these steps, you can do the next steps.\n",
    "\n",
    "### Step 4.1: Post-install checks and configurations\n",
    "After doing the above step, you can check the configuration by executing these steps. Note: do not forget to also upload the script file in Jupyter Hub for this part.\n",
    "\n",
    "After the script execution: make sure to run \"source ~/.bashrc\" in any SSH session you have open to reload the PATH variables to be able to use the installations.\n"
   ]
  },
  {
   "cell_type": "code",
   "execution_count": null,
   "metadata": {
    "tags": []
   },
   "outputs": [],
   "source": [
    "try:\n",
    "    # Get the control plane node (node1)\n",
    "    node1 = slice.get_node(name=node1_name)\n",
    "    # Upload script file to the node\n",
    "    file_attributes = node1.upload_file(local_file_path=\"config_control_plane.sh\", remote_file_path=\"config_control_plane.sh\")\n",
    "    # Add necessary permissions and execute the script\n",
    "    stdout, stderr = node1.execute(f\"chmod +x config_control_plane.sh && ./config_control_plane.sh\")\n",
    "\n",
    "except Exception as e:\n",
    "    print(f\"Exception: {e}\")"
   ]
  },
  {
   "cell_type": "markdown",
   "metadata": {},
   "source": [
    "### Step 4.2: Verify installations\n",
    "\n",
    "Now you can move on to the next step to work with DYNAMOS in Kubernetes. Also, you can use the different Kubernetes tools similar to how you used to do locally now, such as k9s and etcd, etc., but now from the control plane node (in this case node1) by using SSH to log into the VM.\n",
    "\n",
    "For example, test k9s by running \"k9s\" in the SSH connection to node1 and press \"0\" to see all namespaces to open k9s and see the different pods in all namespaces."
   ]
  }
 ],
 "metadata": {
  "kernelspec": {
   "display_name": "Python 3 (ipykernel)",
   "language": "python",
   "name": "python3"
  },
  "language_info": {
   "codemirror_mode": {
    "name": "ipython",
    "version": 3
   },
   "file_extension": ".py",
   "mimetype": "text/x-python",
   "name": "python",
   "nbconvert_exporter": "python",
   "pygments_lexer": "ipython3",
   "version": "3.11.9"
  }
 },
 "nbformat": 4,
 "nbformat_minor": 4
}
