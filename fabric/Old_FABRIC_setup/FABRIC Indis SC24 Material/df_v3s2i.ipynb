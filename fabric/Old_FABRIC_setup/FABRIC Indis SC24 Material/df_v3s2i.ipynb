{
 "cells": [
  {
   "cell_type": "markdown",
   "id": "665a86b6-ce67-4abf-a68f-45bcfa86ebe6",
   "metadata": {
    "editable": true,
    "slideshow": {
     "slide_type": ""
    },
    "tags": []
   },
   "source": [
    "# Microservices-based FABRIC implementation of collaborative model training scenario with Vertical Federated Learning\n",
    "v3.25.74-Si\n",
    "\n",
    "**Developers**  \n",
    "Dr. Anestis Dalgkitsis (a.dalgkitsis@uva.nl) | FABRIC Deployment  \n",
    "Alexandros Koufakis (a.m.koufakis@uva.nl) | DYNAMOS Deployment  \n",
    "Jorrit Stutterheim (j.stutterheim@uva.nl) | DYNAMOS Microservices Core Development\n"
   ]
  },
  {
   "cell_type": "markdown",
   "id": "e49bb4e0-0f5d-42b3-9d17-9def985dd724",
   "metadata": {},
   "source": [
    "## Modules"
   ]
  },
  {
   "cell_type": "code",
   "execution_count": 15,
   "id": "fc609f31-c819-4da4-a088-8730f6668d2f",
   "metadata": {
    "editable": true,
    "slideshow": {
     "slide_type": ""
    },
    "tags": []
   },
   "outputs": [],
   "source": [
    "from fabrictestbed_extensions.fablib.fablib import FablibManager as fablib_manager\n",
    "from ipaddress import ip_address, IPv4Address, IPv6Address, IPv4Network, IPv6Network\n",
    "\n",
    "import ipaddress\n",
    "import json\n",
    "import traceback"
   ]
  },
  {
   "cell_type": "markdown",
   "id": "1218c5a0-bb48-4c39-9bef-cb29f5e5879c",
   "metadata": {},
   "source": [
    "## Configure FABRIC Account"
   ]
  },
  {
   "cell_type": "code",
   "execution_count": 16,
   "id": "4effee87-4a04-49ad-8f19-7f9b8891d6e0",
   "metadata": {},
   "outputs": [
    {
     "name": "stdout",
     "output_type": "stream",
     "text": [
      "User: anestisdalgkitsis@gmail.com bastion key is valid!\n",
      "Configuration is valid and please save the config!\n"
     ]
    },
    {
     "data": {
      "text/html": [
       "<style type=\"text/css\">\n",
       "#T_ab76c tr:nth-child(even) {\n",
       "  background: #dbf3ff;\n",
       "  color: #231f20;\n",
       "}\n",
       "#T_ab76c tr:nth-child(odd) {\n",
       "  background: #ffffff;\n",
       "  color: #231f20;\n",
       "}\n",
       "#T_ab76c caption {\n",
       "  text-align: center;\n",
       "  font-size: 150%;\n",
       "}\n",
       "#T_ab76c_row0_col0, #T_ab76c_row0_col1, #T_ab76c_row1_col0, #T_ab76c_row1_col1, #T_ab76c_row2_col0, #T_ab76c_row2_col1, #T_ab76c_row3_col0, #T_ab76c_row3_col1, #T_ab76c_row4_col0, #T_ab76c_row4_col1, #T_ab76c_row5_col0, #T_ab76c_row5_col1, #T_ab76c_row6_col0, #T_ab76c_row6_col1, #T_ab76c_row7_col0, #T_ab76c_row7_col1, #T_ab76c_row8_col0, #T_ab76c_row8_col1, #T_ab76c_row9_col0, #T_ab76c_row9_col1, #T_ab76c_row10_col0, #T_ab76c_row10_col1, #T_ab76c_row11_col0, #T_ab76c_row11_col1, #T_ab76c_row12_col0, #T_ab76c_row12_col1, #T_ab76c_row13_col0, #T_ab76c_row13_col1, #T_ab76c_row14_col0, #T_ab76c_row14_col1, #T_ab76c_row15_col0, #T_ab76c_row15_col1, #T_ab76c_row16_col0, #T_ab76c_row16_col1 {\n",
       "  text-align: left;\n",
       "  border: 1px #231f20 solid !important;\n",
       "  overwrite: False;\n",
       "}\n",
       "</style>\n",
       "<table id=\"T_ab76c\">\n",
       "  <caption>FABlib Config</caption>\n",
       "  <thead>\n",
       "  </thead>\n",
       "  <tbody>\n",
       "    <tr>\n",
       "      <td id=\"T_ab76c_row0_col0\" class=\"data row0 col0\" >Orchestrator</td>\n",
       "      <td id=\"T_ab76c_row0_col1\" class=\"data row0 col1\" >orchestrator.fabric-testbed.net</td>\n",
       "    </tr>\n",
       "    <tr>\n",
       "      <td id=\"T_ab76c_row1_col0\" class=\"data row1 col0\" >Credential Manager</td>\n",
       "      <td id=\"T_ab76c_row1_col1\" class=\"data row1 col1\" >cm.fabric-testbed.net</td>\n",
       "    </tr>\n",
       "    <tr>\n",
       "      <td id=\"T_ab76c_row2_col0\" class=\"data row2 col0\" >Core API</td>\n",
       "      <td id=\"T_ab76c_row2_col1\" class=\"data row2 col1\" >uis.fabric-testbed.net</td>\n",
       "    </tr>\n",
       "    <tr>\n",
       "      <td id=\"T_ab76c_row3_col0\" class=\"data row3 col0\" >Token File</td>\n",
       "      <td id=\"T_ab76c_row3_col1\" class=\"data row3 col1\" >/home/fabric/.tokens.json</td>\n",
       "    </tr>\n",
       "    <tr>\n",
       "      <td id=\"T_ab76c_row4_col0\" class=\"data row4 col0\" >Project ID</td>\n",
       "      <td id=\"T_ab76c_row4_col1\" class=\"data row4 col1\" >0b8caa1c-566b-436e-a2a7-5e64be8e8a12</td>\n",
       "    </tr>\n",
       "    <tr>\n",
       "      <td id=\"T_ab76c_row5_col0\" class=\"data row5 col0\" >Bastion Host</td>\n",
       "      <td id=\"T_ab76c_row5_col1\" class=\"data row5 col1\" >bastion.fabric-testbed.net</td>\n",
       "    </tr>\n",
       "    <tr>\n",
       "      <td id=\"T_ab76c_row6_col0\" class=\"data row6 col0\" >Bastion Username</td>\n",
       "      <td id=\"T_ab76c_row6_col1\" class=\"data row6 col1\" >anestisdalgkitsis_0000175933</td>\n",
       "    </tr>\n",
       "    <tr>\n",
       "      <td id=\"T_ab76c_row7_col0\" class=\"data row7 col0\" >Bastion Private Key File</td>\n",
       "      <td id=\"T_ab76c_row7_col1\" class=\"data row7 col1\" >/home/fabric/work/fabric_config/fabric-bastion-key</td>\n",
       "    </tr>\n",
       "    <tr>\n",
       "      <td id=\"T_ab76c_row8_col0\" class=\"data row8 col0\" >Slice Public Key File</td>\n",
       "      <td id=\"T_ab76c_row8_col1\" class=\"data row8 col1\" >/home/fabric/work/fabric_config/slice_key.pub</td>\n",
       "    </tr>\n",
       "    <tr>\n",
       "      <td id=\"T_ab76c_row9_col0\" class=\"data row9 col0\" >Slice Private Key File</td>\n",
       "      <td id=\"T_ab76c_row9_col1\" class=\"data row9 col1\" >/home/fabric/work/fabric_config/slice_key</td>\n",
       "    </tr>\n",
       "    <tr>\n",
       "      <td id=\"T_ab76c_row10_col0\" class=\"data row10 col0\" >Sites to avoid</td>\n",
       "      <td id=\"T_ab76c_row10_col1\" class=\"data row10 col1\" ></td>\n",
       "    </tr>\n",
       "    <tr>\n",
       "      <td id=\"T_ab76c_row11_col0\" class=\"data row11 col0\" >SSH Command Line</td>\n",
       "      <td id=\"T_ab76c_row11_col1\" class=\"data row11 col1\" >ssh -i {{ _self_.private_ssh_key_file }} -F /home/fabric/work/fabric_config/ssh_config {{ _self_.username }}@{{ _self_.management_ip }}</td>\n",
       "    </tr>\n",
       "    <tr>\n",
       "      <td id=\"T_ab76c_row12_col0\" class=\"data row12 col0\" >Log Level</td>\n",
       "      <td id=\"T_ab76c_row12_col1\" class=\"data row12 col1\" >INFO</td>\n",
       "    </tr>\n",
       "    <tr>\n",
       "      <td id=\"T_ab76c_row13_col0\" class=\"data row13 col0\" >Log File</td>\n",
       "      <td id=\"T_ab76c_row13_col1\" class=\"data row13 col1\" >/tmp/fablib/fablib.log</td>\n",
       "    </tr>\n",
       "    <tr>\n",
       "      <td id=\"T_ab76c_row14_col0\" class=\"data row14 col0\" >Bastion SSH Config File</td>\n",
       "      <td id=\"T_ab76c_row14_col1\" class=\"data row14 col1\" >/home/fabric/work/fabric_config/ssh_config</td>\n",
       "    </tr>\n",
       "    <tr>\n",
       "      <td id=\"T_ab76c_row15_col0\" class=\"data row15 col0\" >Version</td>\n",
       "      <td id=\"T_ab76c_row15_col1\" class=\"data row15 col1\" >1.7.3</td>\n",
       "    </tr>\n",
       "    <tr>\n",
       "      <td id=\"T_ab76c_row16_col0\" class=\"data row16 col0\" >Data directory</td>\n",
       "      <td id=\"T_ab76c_row16_col1\" class=\"data row16 col1\" >/tmp/fablib</td>\n",
       "    </tr>\n",
       "  </tbody>\n",
       "</table>\n"
      ],
      "text/plain": [
       "<pandas.io.formats.style.Styler at 0x786048514a50>"
      ]
     },
     "metadata": {},
     "output_type": "display_data"
    },
    {
     "data": {
      "text/html": [
       "<style type=\"text/css\">\n",
       "#T_ab76c tr:nth-child(even) {\n",
       "  background: #dbf3ff;\n",
       "  color: #231f20;\n",
       "}\n",
       "#T_ab76c tr:nth-child(odd) {\n",
       "  background: #ffffff;\n",
       "  color: #231f20;\n",
       "}\n",
       "#T_ab76c caption {\n",
       "  text-align: center;\n",
       "  font-size: 150%;\n",
       "}\n",
       "#T_ab76c_row0_col0, #T_ab76c_row0_col1, #T_ab76c_row1_col0, #T_ab76c_row1_col1, #T_ab76c_row2_col0, #T_ab76c_row2_col1, #T_ab76c_row3_col0, #T_ab76c_row3_col1, #T_ab76c_row4_col0, #T_ab76c_row4_col1, #T_ab76c_row5_col0, #T_ab76c_row5_col1, #T_ab76c_row6_col0, #T_ab76c_row6_col1, #T_ab76c_row7_col0, #T_ab76c_row7_col1, #T_ab76c_row8_col0, #T_ab76c_row8_col1, #T_ab76c_row9_col0, #T_ab76c_row9_col1, #T_ab76c_row10_col0, #T_ab76c_row10_col1, #T_ab76c_row11_col0, #T_ab76c_row11_col1, #T_ab76c_row12_col0, #T_ab76c_row12_col1, #T_ab76c_row13_col0, #T_ab76c_row13_col1, #T_ab76c_row14_col0, #T_ab76c_row14_col1, #T_ab76c_row15_col0, #T_ab76c_row15_col1, #T_ab76c_row16_col0, #T_ab76c_row16_col1 {\n",
       "  text-align: left;\n",
       "  border: 1px #231f20 solid !important;\n",
       "  overwrite: False;\n",
       "}\n",
       "</style>\n",
       "<table id=\"T_ab76c\">\n",
       "  <caption>FABlib Config</caption>\n",
       "  <thead>\n",
       "  </thead>\n",
       "  <tbody>\n",
       "    <tr>\n",
       "      <td id=\"T_ab76c_row0_col0\" class=\"data row0 col0\" >Orchestrator</td>\n",
       "      <td id=\"T_ab76c_row0_col1\" class=\"data row0 col1\" >orchestrator.fabric-testbed.net</td>\n",
       "    </tr>\n",
       "    <tr>\n",
       "      <td id=\"T_ab76c_row1_col0\" class=\"data row1 col0\" >Credential Manager</td>\n",
       "      <td id=\"T_ab76c_row1_col1\" class=\"data row1 col1\" >cm.fabric-testbed.net</td>\n",
       "    </tr>\n",
       "    <tr>\n",
       "      <td id=\"T_ab76c_row2_col0\" class=\"data row2 col0\" >Core API</td>\n",
       "      <td id=\"T_ab76c_row2_col1\" class=\"data row2 col1\" >uis.fabric-testbed.net</td>\n",
       "    </tr>\n",
       "    <tr>\n",
       "      <td id=\"T_ab76c_row3_col0\" class=\"data row3 col0\" >Token File</td>\n",
       "      <td id=\"T_ab76c_row3_col1\" class=\"data row3 col1\" >/home/fabric/.tokens.json</td>\n",
       "    </tr>\n",
       "    <tr>\n",
       "      <td id=\"T_ab76c_row4_col0\" class=\"data row4 col0\" >Project ID</td>\n",
       "      <td id=\"T_ab76c_row4_col1\" class=\"data row4 col1\" >0b8caa1c-566b-436e-a2a7-5e64be8e8a12</td>\n",
       "    </tr>\n",
       "    <tr>\n",
       "      <td id=\"T_ab76c_row5_col0\" class=\"data row5 col0\" >Bastion Host</td>\n",
       "      <td id=\"T_ab76c_row5_col1\" class=\"data row5 col1\" >bastion.fabric-testbed.net</td>\n",
       "    </tr>\n",
       "    <tr>\n",
       "      <td id=\"T_ab76c_row6_col0\" class=\"data row6 col0\" >Bastion Username</td>\n",
       "      <td id=\"T_ab76c_row6_col1\" class=\"data row6 col1\" >anestisdalgkitsis_0000175933</td>\n",
       "    </tr>\n",
       "    <tr>\n",
       "      <td id=\"T_ab76c_row7_col0\" class=\"data row7 col0\" >Bastion Private Key File</td>\n",
       "      <td id=\"T_ab76c_row7_col1\" class=\"data row7 col1\" >/home/fabric/work/fabric_config/fabric-bastion-key</td>\n",
       "    </tr>\n",
       "    <tr>\n",
       "      <td id=\"T_ab76c_row8_col0\" class=\"data row8 col0\" >Slice Public Key File</td>\n",
       "      <td id=\"T_ab76c_row8_col1\" class=\"data row8 col1\" >/home/fabric/work/fabric_config/slice_key.pub</td>\n",
       "    </tr>\n",
       "    <tr>\n",
       "      <td id=\"T_ab76c_row9_col0\" class=\"data row9 col0\" >Slice Private Key File</td>\n",
       "      <td id=\"T_ab76c_row9_col1\" class=\"data row9 col1\" >/home/fabric/work/fabric_config/slice_key</td>\n",
       "    </tr>\n",
       "    <tr>\n",
       "      <td id=\"T_ab76c_row10_col0\" class=\"data row10 col0\" >Sites to avoid</td>\n",
       "      <td id=\"T_ab76c_row10_col1\" class=\"data row10 col1\" ></td>\n",
       "    </tr>\n",
       "    <tr>\n",
       "      <td id=\"T_ab76c_row11_col0\" class=\"data row11 col0\" >SSH Command Line</td>\n",
       "      <td id=\"T_ab76c_row11_col1\" class=\"data row11 col1\" >ssh -i {{ _self_.private_ssh_key_file }} -F /home/fabric/work/fabric_config/ssh_config {{ _self_.username }}@{{ _self_.management_ip }}</td>\n",
       "    </tr>\n",
       "    <tr>\n",
       "      <td id=\"T_ab76c_row12_col0\" class=\"data row12 col0\" >Log Level</td>\n",
       "      <td id=\"T_ab76c_row12_col1\" class=\"data row12 col1\" >INFO</td>\n",
       "    </tr>\n",
       "    <tr>\n",
       "      <td id=\"T_ab76c_row13_col0\" class=\"data row13 col0\" >Log File</td>\n",
       "      <td id=\"T_ab76c_row13_col1\" class=\"data row13 col1\" >/tmp/fablib/fablib.log</td>\n",
       "    </tr>\n",
       "    <tr>\n",
       "      <td id=\"T_ab76c_row14_col0\" class=\"data row14 col0\" >Bastion SSH Config File</td>\n",
       "      <td id=\"T_ab76c_row14_col1\" class=\"data row14 col1\" >/home/fabric/work/fabric_config/ssh_config</td>\n",
       "    </tr>\n",
       "    <tr>\n",
       "      <td id=\"T_ab76c_row15_col0\" class=\"data row15 col0\" >Version</td>\n",
       "      <td id=\"T_ab76c_row15_col1\" class=\"data row15 col1\" >1.7.3</td>\n",
       "    </tr>\n",
       "    <tr>\n",
       "      <td id=\"T_ab76c_row16_col0\" class=\"data row16 col0\" >Data directory</td>\n",
       "      <td id=\"T_ab76c_row16_col1\" class=\"data row16 col1\" >/tmp/fablib</td>\n",
       "    </tr>\n",
       "  </tbody>\n",
       "</table>\n"
      ],
      "text/plain": [
       "<pandas.io.formats.style.Styler at 0x786048514a50>"
      ]
     },
     "execution_count": 16,
     "metadata": {},
     "output_type": "execute_result"
    }
   ],
   "source": [
    "# Config\n",
    "fablib = fablib_manager()\n",
    "fablib.verify_and_configure()\n",
    "fablib.save_config()\n",
    "fablib.show_config()"
   ]
  },
  {
   "cell_type": "markdown",
   "id": "4bd6dfd1-98e1-4b1a-8a1a-816247360ec5",
   "metadata": {},
   "source": [
    "## Parameters\n",
    "\n",
    "FABRIC slice configuration."
   ]
  },
  {
   "cell_type": "code",
   "execution_count": 17,
   "id": "7436fa26-3355-4425-ae02-80ced80073fb",
   "metadata": {},
   "outputs": [],
   "source": [
    "# Infrastructure Parameters\n",
    "slice_name = \"indis_dynamos-v3\"\n",
    "network_name = \"Transatlantic_L2STS\"\n",
    "node_image = 'default_ubuntu_22'\n",
    "\n",
    "# Sites\n",
    "# mobile_ciena_node = \"CIEN\"\n",
    "# site_us = mobile_ciena_node\n",
    "site_eu = \"AMST\"\n",
    "# site_us = \"DALL\"\n",
    "site_us = \"CIEN\"\n",
    "site_ap = \"TOKY\""
   ]
  },
  {
   "cell_type": "code",
   "execution_count": 18,
   "id": "bf442333-0a0b-49db-9514-2314dc7e4083",
   "metadata": {},
   "outputs": [],
   "source": [
    "# Client I Node Parameters\n",
    "client_1_node_name = \"client_1\"\n",
    "client_1_nic_name = \"c1nic\""
   ]
  },
  {
   "cell_type": "code",
   "execution_count": 19,
   "id": "d7707553-09c1-486f-9ba1-939f762dae5a",
   "metadata": {},
   "outputs": [],
   "source": [
    "# Client II Node Parameters\n",
    "client_2_node_name = \"client_2\"\n",
    "client_2_nic_name = \"c2nic\""
   ]
  },
  {
   "cell_type": "code",
   "execution_count": 20,
   "id": "c1b1ebc6-a981-4fa2-8f8b-0b5cfaa44a39",
   "metadata": {},
   "outputs": [],
   "source": [
    "# Client III Node Parameters\n",
    "client_3_node_name = \"client_3\"\n",
    "client_3_nic_name = \"c3nic\""
   ]
  },
  {
   "cell_type": "code",
   "execution_count": 21,
   "id": "ba235771-f153-409f-937d-be1b7089bbe1",
   "metadata": {},
   "outputs": [],
   "source": [
    "# DYNAMOS CORE Node Parameters\n",
    "dynamos_core_node_name = \"dynamos-core\"\n",
    "dynamos_core_nic_name = \"dcnic\""
   ]
  },
  {
   "cell_type": "markdown",
   "id": "c3a42d95-b559-4cb9-9d92-2482ff416236",
   "metadata": {},
   "source": [
    "## Create Topology\n",
    "\n",
    "Slice definition."
   ]
  },
  {
   "cell_type": "code",
   "execution_count": 22,
   "id": "8ab9881f-563b-4e5e-99dd-e39608f26c3c",
   "metadata": {},
   "outputs": [],
   "source": [
    "# Define Network Slice\n",
    "slice = fablib.new_slice(name=slice_name)"
   ]
  },
  {
   "cell_type": "code",
   "execution_count": 23,
   "id": "a1e7ec49-75de-4003-a4da-3d172f0f17bf",
   "metadata": {},
   "outputs": [],
   "source": [
    "# WAN Multi-Site\n",
    "network = slice.add_l2network(name=\"TRANSATLANTIC_L2\", type=\"L2PTP\")"
   ]
  },
  {
   "cell_type": "code",
   "execution_count": 24,
   "id": "21535a8e-a682-4129-8031-b5bc8609b38e",
   "metadata": {},
   "outputs": [],
   "source": [
    "# Client I (EU)\n",
    "client_1_node = slice.add_node(name=client_1_node_name, site=site_eu, cores=2, ram=8, disk=24, image=node_image)\n",
    "iface_client_1_node = client_1_node.add_component(model='NIC_ConnectX_6', name=client_1_nic_name).get_interfaces()[0]\n",
    "iface_client_1_node.set_mode('auto')\n",
    "network.add_interface(iface_client_1_node)"
   ]
  },
  {
   "cell_type": "code",
   "execution_count": 25,
   "id": "8269e0ea-03d9-4a9d-ad31-c7774076a525",
   "metadata": {},
   "outputs": [],
   "source": [
    "# Client II (EU)\n",
    "client_2_node = slice.add_node(name=client_2_node_name, site=site_eu, cores=2, ram=8, disk=24, image=node_image)\n",
    "iface_client_2_node = client_2_node.add_component(model='NIC_ConnectX_6', name=client_2_nic_name).get_interfaces()[0]\n",
    "iface_client_2_node.set_mode('auto')\n",
    "network.add_interface(iface_client_2_node)"
   ]
  },
  {
   "cell_type": "code",
   "execution_count": 26,
   "id": "cd231171-5893-4cd6-b9c3-6d8df606b8e1",
   "metadata": {},
   "outputs": [],
   "source": [
    "# Client III (US)\n",
    "client_3_node = slice.add_node(name=client_3_node_name, site=site_us, cores=2, ram=8, disk=24, image=node_image)\n",
    "iface_client_3_node = client_3_node.add_component(model='NIC_ConnectX_6', name=client_3_nic_name).get_interfaces()[0]\n",
    "iface_client_3_node.set_mode('auto')\n",
    "network.add_interface(iface_client_3_node)"
   ]
  },
  {
   "cell_type": "code",
   "execution_count": 27,
   "id": "ace13331-0028-4c00-95a0-91d0bcef9c69",
   "metadata": {},
   "outputs": [],
   "source": [
    "# DYNAMOS CORE (US)\n",
    "dynamos_core_node = slice.add_node(name=dynamos_core_node_name, site=site_us, cores=4, ram=16, disk=24, image=node_image)\n",
    "iface_dynamos_core_node = dynamos_core_node.add_component(model='NIC_ConnectX_6', name=dynamos_core_nic_name).get_interfaces()[0]\n",
    "iface_dynamos_core_node.set_mode('auto')\n",
    "network.add_interface(iface_dynamos_core_node)"
   ]
  },
  {
   "cell_type": "code",
   "execution_count": 28,
   "id": "785882fb-c500-4044-8f23-38f8ef3c0394",
   "metadata": {},
   "outputs": [
    {
     "data": {
      "text/html": [
       "<style type=\"text/css\">\n",
       "#T_ea1f8 tr:nth-child(even) {\n",
       "  background: #dbf3ff;\n",
       "  color: #231f20;\n",
       "}\n",
       "#T_ea1f8 tr:nth-child(odd) {\n",
       "  background: #ffffff;\n",
       "  color: #231f20;\n",
       "}\n",
       "#T_ea1f8 caption {\n",
       "  text-align: center;\n",
       "  font-size: 150%;\n",
       "}\n",
       "#T_ea1f8_row0_col0, #T_ea1f8_row0_col1, #T_ea1f8_row1_col0, #T_ea1f8_row1_col1, #T_ea1f8_row2_col0, #T_ea1f8_row2_col1, #T_ea1f8_row3_col0, #T_ea1f8_row3_col1, #T_ea1f8_row4_col0, #T_ea1f8_row4_col1, #T_ea1f8_row5_col0 {\n",
       "  text-align: left;\n",
       "  border: 1px #231f20 solid !important;\n",
       "  overwrite: False;\n",
       "  background-color: ;\n",
       "}\n",
       "#T_ea1f8_row5_col1 {\n",
       "  text-align: left;\n",
       "  border: 1px #231f20 solid !important;\n",
       "  overwrite: False;\n",
       "  background-color: #ffb7b9;\n",
       "}\n",
       "</style>\n",
       "<table id=\"T_ea1f8\">\n",
       "  <caption>Slice</caption>\n",
       "  <thead>\n",
       "  </thead>\n",
       "  <tbody>\n",
       "    <tr>\n",
       "      <td id=\"T_ea1f8_row0_col0\" class=\"data row0 col0\" >ID</td>\n",
       "      <td id=\"T_ea1f8_row0_col1\" class=\"data row0 col1\" >fca2131f-b04c-49b2-a434-633a3c1b379d</td>\n",
       "    </tr>\n",
       "    <tr>\n",
       "      <td id=\"T_ea1f8_row1_col0\" class=\"data row1 col0\" >Name</td>\n",
       "      <td id=\"T_ea1f8_row1_col1\" class=\"data row1 col1\" >indis_dynamos-v3</td>\n",
       "    </tr>\n",
       "    <tr>\n",
       "      <td id=\"T_ea1f8_row2_col0\" class=\"data row2 col0\" >Lease Expiration (UTC)</td>\n",
       "      <td id=\"T_ea1f8_row2_col1\" class=\"data row2 col1\" >2024-11-20 21:50:42 +0000</td>\n",
       "    </tr>\n",
       "    <tr>\n",
       "      <td id=\"T_ea1f8_row3_col0\" class=\"data row3 col0\" >Lease Start (UTC)</td>\n",
       "      <td id=\"T_ea1f8_row3_col1\" class=\"data row3 col1\" >2024-11-19 21:50:42 +0000</td>\n",
       "    </tr>\n",
       "    <tr>\n",
       "      <td id=\"T_ea1f8_row4_col0\" class=\"data row4 col0\" >Project ID</td>\n",
       "      <td id=\"T_ea1f8_row4_col1\" class=\"data row4 col1\" >0b8caa1c-566b-436e-a2a7-5e64be8e8a12</td>\n",
       "    </tr>\n",
       "    <tr>\n",
       "      <td id=\"T_ea1f8_row5_col0\" class=\"data row5 col0\" >State</td>\n",
       "      <td id=\"T_ea1f8_row5_col1\" class=\"data row5 col1\" >StableError</td>\n",
       "    </tr>\n",
       "  </tbody>\n",
       "</table>\n"
      ],
      "text/plain": [
       "<pandas.io.formats.style.Styler at 0x786048535e10>"
      ]
     },
     "metadata": {},
     "output_type": "display_data"
    },
    {
     "data": {
      "text/html": [
       "<style type=\"text/css\">\n",
       "#T_6de17 caption {\n",
       "  text-align: center;\n",
       "  font-size: 150%;\n",
       "  caption-side: top;\n",
       "}\n",
       "#T_6de17 th {\n",
       "  text-align: left;\n",
       "}\n",
       "#T_6de17 tr:nth-child(even) {\n",
       "  background: #ffffff;\n",
       "  color: #231f20;\n",
       "}\n",
       "#T_6de17 tr:nth-child(odd) {\n",
       "  background: #dbf3ff;\n",
       "  color: #231f20;\n",
       "}\n",
       "#T_6de17 .level0 {\n",
       "  border: 1px black solid !important;\n",
       "  background: #ffffff;\n",
       "  color: #231f20;\n",
       "}\n",
       "#T_6de17_row0_col0, #T_6de17_row0_col1, #T_6de17_row0_col2, #T_6de17_row0_col3, #T_6de17_row0_col4, #T_6de17_row0_col5, #T_6de17_row0_col6, #T_6de17_row0_col7, #T_6de17_row0_col8, #T_6de17_row0_col9, #T_6de17_row0_col10, #T_6de17_row0_col13, #T_6de17_row0_col14, #T_6de17_row0_col15, #T_6de17_row1_col0, #T_6de17_row1_col1, #T_6de17_row1_col2, #T_6de17_row1_col3, #T_6de17_row1_col4, #T_6de17_row1_col5, #T_6de17_row1_col6, #T_6de17_row1_col7, #T_6de17_row1_col8, #T_6de17_row1_col9, #T_6de17_row1_col10, #T_6de17_row1_col13, #T_6de17_row1_col14, #T_6de17_row1_col15, #T_6de17_row2_col0, #T_6de17_row2_col1, #T_6de17_row2_col2, #T_6de17_row2_col3, #T_6de17_row2_col4, #T_6de17_row2_col5, #T_6de17_row2_col6, #T_6de17_row2_col7, #T_6de17_row2_col8, #T_6de17_row2_col9, #T_6de17_row2_col10, #T_6de17_row2_col13, #T_6de17_row2_col14, #T_6de17_row2_col15, #T_6de17_row3_col0, #T_6de17_row3_col1, #T_6de17_row3_col2, #T_6de17_row3_col3, #T_6de17_row3_col4, #T_6de17_row3_col5, #T_6de17_row3_col6, #T_6de17_row3_col7, #T_6de17_row3_col8, #T_6de17_row3_col9, #T_6de17_row3_col10, #T_6de17_row3_col13, #T_6de17_row3_col14, #T_6de17_row3_col15 {\n",
       "  text-align: left;\n",
       "  border: 1px #231f20 solid !important;\n",
       "  overwrite: False;\n",
       "}\n",
       "#T_6de17_row0_col11, #T_6de17_row1_col11, #T_6de17_row2_col11, #T_6de17_row3_col11 {\n",
       "  text-align: left;\n",
       "  border: 1px #231f20 solid !important;\n",
       "  overwrite: False;\n",
       "  background-color: #c3ffc4;\n",
       "}\n",
       "#T_6de17_row0_col12, #T_6de17_row1_col12, #T_6de17_row2_col12, #T_6de17_row3_col12 {\n",
       "  text-align: left;\n",
       "  border: 1px #231f20 solid !important;\n",
       "  overwrite: False;\n",
       "  background-color: ;\n",
       "}\n",
       "</style>\n",
       "<table id=\"T_6de17\">\n",
       "  <caption>Nodes</caption>\n",
       "  <thead>\n",
       "    <tr>\n",
       "      <th id=\"T_6de17_level0_col0\" class=\"col_heading level0 col0\" >ID</th>\n",
       "      <th id=\"T_6de17_level0_col1\" class=\"col_heading level0 col1\" >Name</th>\n",
       "      <th id=\"T_6de17_level0_col2\" class=\"col_heading level0 col2\" >Cores</th>\n",
       "      <th id=\"T_6de17_level0_col3\" class=\"col_heading level0 col3\" >RAM</th>\n",
       "      <th id=\"T_6de17_level0_col4\" class=\"col_heading level0 col4\" >Disk</th>\n",
       "      <th id=\"T_6de17_level0_col5\" class=\"col_heading level0 col5\" >Image</th>\n",
       "      <th id=\"T_6de17_level0_col6\" class=\"col_heading level0 col6\" >Image Type</th>\n",
       "      <th id=\"T_6de17_level0_col7\" class=\"col_heading level0 col7\" >Host</th>\n",
       "      <th id=\"T_6de17_level0_col8\" class=\"col_heading level0 col8\" >Site</th>\n",
       "      <th id=\"T_6de17_level0_col9\" class=\"col_heading level0 col9\" >Username</th>\n",
       "      <th id=\"T_6de17_level0_col10\" class=\"col_heading level0 col10\" >Management IP</th>\n",
       "      <th id=\"T_6de17_level0_col11\" class=\"col_heading level0 col11\" >State</th>\n",
       "      <th id=\"T_6de17_level0_col12\" class=\"col_heading level0 col12\" >Error</th>\n",
       "      <th id=\"T_6de17_level0_col13\" class=\"col_heading level0 col13\" >SSH Command</th>\n",
       "      <th id=\"T_6de17_level0_col14\" class=\"col_heading level0 col14\" >Public SSH Key File</th>\n",
       "      <th id=\"T_6de17_level0_col15\" class=\"col_heading level0 col15\" >Private SSH Key File</th>\n",
       "    </tr>\n",
       "  </thead>\n",
       "  <tbody>\n",
       "    <tr>\n",
       "      <td id=\"T_6de17_row0_col0\" class=\"data row0 col0\" >85b27ebb-4849-4b44-abdd-9561372d5fbc</td>\n",
       "      <td id=\"T_6de17_row0_col1\" class=\"data row0 col1\" >client_1</td>\n",
       "      <td id=\"T_6de17_row0_col2\" class=\"data row0 col2\" >2</td>\n",
       "      <td id=\"T_6de17_row0_col3\" class=\"data row0 col3\" >8</td>\n",
       "      <td id=\"T_6de17_row0_col4\" class=\"data row0 col4\" >100</td>\n",
       "      <td id=\"T_6de17_row0_col5\" class=\"data row0 col5\" >default_ubuntu_22</td>\n",
       "      <td id=\"T_6de17_row0_col6\" class=\"data row0 col6\" >qcow2</td>\n",
       "      <td id=\"T_6de17_row0_col7\" class=\"data row0 col7\" >amst-w3.fabric-testbed.net</td>\n",
       "      <td id=\"T_6de17_row0_col8\" class=\"data row0 col8\" >AMST</td>\n",
       "      <td id=\"T_6de17_row0_col9\" class=\"data row0 col9\" >ubuntu</td>\n",
       "      <td id=\"T_6de17_row0_col10\" class=\"data row0 col10\" >2001:610:2d0:fabc:f816:3eff:febd:463d</td>\n",
       "      <td id=\"T_6de17_row0_col11\" class=\"data row0 col11\" >Active</td>\n",
       "      <td id=\"T_6de17_row0_col12\" class=\"data row0 col12\" ></td>\n",
       "      <td id=\"T_6de17_row0_col13\" class=\"data row0 col13\" >ssh -i /home/fabric/work/fabric_config/slice_key -F /home/fabric/work/fabric_config/ssh_config ubuntu@2001:610:2d0:fabc:f816:3eff:febd:463d</td>\n",
       "      <td id=\"T_6de17_row0_col14\" class=\"data row0 col14\" >/home/fabric/work/fabric_config/slice_key.pub</td>\n",
       "      <td id=\"T_6de17_row0_col15\" class=\"data row0 col15\" >/home/fabric/work/fabric_config/slice_key</td>\n",
       "    </tr>\n",
       "    <tr>\n",
       "      <td id=\"T_6de17_row1_col0\" class=\"data row1 col0\" >47b5a53a-5466-4f53-bb3b-44f4f8473710</td>\n",
       "      <td id=\"T_6de17_row1_col1\" class=\"data row1 col1\" >client_2</td>\n",
       "      <td id=\"T_6de17_row1_col2\" class=\"data row1 col2\" >2</td>\n",
       "      <td id=\"T_6de17_row1_col3\" class=\"data row1 col3\" >8</td>\n",
       "      <td id=\"T_6de17_row1_col4\" class=\"data row1 col4\" >100</td>\n",
       "      <td id=\"T_6de17_row1_col5\" class=\"data row1 col5\" >default_ubuntu_22</td>\n",
       "      <td id=\"T_6de17_row1_col6\" class=\"data row1 col6\" >qcow2</td>\n",
       "      <td id=\"T_6de17_row1_col7\" class=\"data row1 col7\" >amst-w3.fabric-testbed.net</td>\n",
       "      <td id=\"T_6de17_row1_col8\" class=\"data row1 col8\" >AMST</td>\n",
       "      <td id=\"T_6de17_row1_col9\" class=\"data row1 col9\" >ubuntu</td>\n",
       "      <td id=\"T_6de17_row1_col10\" class=\"data row1 col10\" >2001:610:2d0:fabc:f816:3eff:fec9:79c2</td>\n",
       "      <td id=\"T_6de17_row1_col11\" class=\"data row1 col11\" >Active</td>\n",
       "      <td id=\"T_6de17_row1_col12\" class=\"data row1 col12\" ></td>\n",
       "      <td id=\"T_6de17_row1_col13\" class=\"data row1 col13\" >ssh -i /home/fabric/work/fabric_config/slice_key -F /home/fabric/work/fabric_config/ssh_config ubuntu@2001:610:2d0:fabc:f816:3eff:fec9:79c2</td>\n",
       "      <td id=\"T_6de17_row1_col14\" class=\"data row1 col14\" >/home/fabric/work/fabric_config/slice_key.pub</td>\n",
       "      <td id=\"T_6de17_row1_col15\" class=\"data row1 col15\" >/home/fabric/work/fabric_config/slice_key</td>\n",
       "    </tr>\n",
       "    <tr>\n",
       "      <td id=\"T_6de17_row2_col0\" class=\"data row2 col0\" >ab7891a6-df31-49c5-b97a-bc7bf2ef3a3b</td>\n",
       "      <td id=\"T_6de17_row2_col1\" class=\"data row2 col1\" >client_3</td>\n",
       "      <td id=\"T_6de17_row2_col2\" class=\"data row2 col2\" >2</td>\n",
       "      <td id=\"T_6de17_row2_col3\" class=\"data row2 col3\" >8</td>\n",
       "      <td id=\"T_6de17_row2_col4\" class=\"data row2 col4\" >100</td>\n",
       "      <td id=\"T_6de17_row2_col5\" class=\"data row2 col5\" >default_ubuntu_22</td>\n",
       "      <td id=\"T_6de17_row2_col6\" class=\"data row2 col6\" >qcow2</td>\n",
       "      <td id=\"T_6de17_row2_col7\" class=\"data row2 col7\" >cien-w2.fabric-testbed.net</td>\n",
       "      <td id=\"T_6de17_row2_col8\" class=\"data row2 col8\" >CIEN</td>\n",
       "      <td id=\"T_6de17_row2_col9\" class=\"data row2 col9\" >ubuntu</td>\n",
       "      <td id=\"T_6de17_row2_col10\" class=\"data row2 col10\" >140.221.140.46</td>\n",
       "      <td id=\"T_6de17_row2_col11\" class=\"data row2 col11\" >Active</td>\n",
       "      <td id=\"T_6de17_row2_col12\" class=\"data row2 col12\" ></td>\n",
       "      <td id=\"T_6de17_row2_col13\" class=\"data row2 col13\" >ssh -i /home/fabric/work/fabric_config/slice_key -F /home/fabric/work/fabric_config/ssh_config ubuntu@140.221.140.46</td>\n",
       "      <td id=\"T_6de17_row2_col14\" class=\"data row2 col14\" >/home/fabric/work/fabric_config/slice_key.pub</td>\n",
       "      <td id=\"T_6de17_row2_col15\" class=\"data row2 col15\" >/home/fabric/work/fabric_config/slice_key</td>\n",
       "    </tr>\n",
       "    <tr>\n",
       "      <td id=\"T_6de17_row3_col0\" class=\"data row3 col0\" >366e180e-a672-4ac7-b5aa-152cdf5fd9b9</td>\n",
       "      <td id=\"T_6de17_row3_col1\" class=\"data row3 col1\" >dynamos-core</td>\n",
       "      <td id=\"T_6de17_row3_col2\" class=\"data row3 col2\" >4</td>\n",
       "      <td id=\"T_6de17_row3_col3\" class=\"data row3 col3\" >16</td>\n",
       "      <td id=\"T_6de17_row3_col4\" class=\"data row3 col4\" >100</td>\n",
       "      <td id=\"T_6de17_row3_col5\" class=\"data row3 col5\" >default_ubuntu_22</td>\n",
       "      <td id=\"T_6de17_row3_col6\" class=\"data row3 col6\" >qcow2</td>\n",
       "      <td id=\"T_6de17_row3_col7\" class=\"data row3 col7\" >cien-w2.fabric-testbed.net</td>\n",
       "      <td id=\"T_6de17_row3_col8\" class=\"data row3 col8\" >CIEN</td>\n",
       "      <td id=\"T_6de17_row3_col9\" class=\"data row3 col9\" >ubuntu</td>\n",
       "      <td id=\"T_6de17_row3_col10\" class=\"data row3 col10\" >140.221.140.57</td>\n",
       "      <td id=\"T_6de17_row3_col11\" class=\"data row3 col11\" >Active</td>\n",
       "      <td id=\"T_6de17_row3_col12\" class=\"data row3 col12\" ></td>\n",
       "      <td id=\"T_6de17_row3_col13\" class=\"data row3 col13\" >ssh -i /home/fabric/work/fabric_config/slice_key -F /home/fabric/work/fabric_config/ssh_config ubuntu@140.221.140.57</td>\n",
       "      <td id=\"T_6de17_row3_col14\" class=\"data row3 col14\" >/home/fabric/work/fabric_config/slice_key.pub</td>\n",
       "      <td id=\"T_6de17_row3_col15\" class=\"data row3 col15\" >/home/fabric/work/fabric_config/slice_key</td>\n",
       "    </tr>\n",
       "  </tbody>\n",
       "</table>\n"
      ],
      "text/plain": [
       "<pandas.io.formats.style.Styler at 0x7860483c1950>"
      ]
     },
     "metadata": {},
     "output_type": "display_data"
    },
    {
     "data": {
      "text/html": [
       "<style type=\"text/css\">\n",
       "#T_ea63a caption {\n",
       "  text-align: center;\n",
       "  font-size: 150%;\n",
       "  caption-side: top;\n",
       "}\n",
       "#T_ea63a th {\n",
       "  text-align: left;\n",
       "}\n",
       "#T_ea63a tr:nth-child(even) {\n",
       "  background: #ffffff;\n",
       "  color: #231f20;\n",
       "}\n",
       "#T_ea63a tr:nth-child(odd) {\n",
       "  background: #dbf3ff;\n",
       "  color: #231f20;\n",
       "}\n",
       "#T_ea63a .level0 {\n",
       "  border: 1px black solid !important;\n",
       "  background: #ffffff;\n",
       "  color: #231f20;\n",
       "}\n",
       "#T_ea63a_row0_col0, #T_ea63a_row0_col1, #T_ea63a_row0_col2, #T_ea63a_row0_col3, #T_ea63a_row0_col4, #T_ea63a_row0_col5, #T_ea63a_row0_col6 {\n",
       "  text-align: left;\n",
       "  border: 1px #231f20 solid !important;\n",
       "  overwrite: False;\n",
       "}\n",
       "#T_ea63a_row0_col7 {\n",
       "  text-align: left;\n",
       "  border: 1px #231f20 solid !important;\n",
       "  overwrite: False;\n",
       "  background-color: ;\n",
       "}\n",
       "#T_ea63a_row0_col8 {\n",
       "  text-align: left;\n",
       "  border: 1px #231f20 solid !important;\n",
       "  overwrite: False;\n",
       "  background-color: #ffb7b9;\n",
       "}\n",
       "</style>\n",
       "<table id=\"T_ea63a\">\n",
       "  <caption>Networks</caption>\n",
       "  <thead>\n",
       "    <tr>\n",
       "      <th id=\"T_ea63a_level0_col0\" class=\"col_heading level0 col0\" >ID</th>\n",
       "      <th id=\"T_ea63a_level0_col1\" class=\"col_heading level0 col1\" >Name</th>\n",
       "      <th id=\"T_ea63a_level0_col2\" class=\"col_heading level0 col2\" >Layer</th>\n",
       "      <th id=\"T_ea63a_level0_col3\" class=\"col_heading level0 col3\" >Type</th>\n",
       "      <th id=\"T_ea63a_level0_col4\" class=\"col_heading level0 col4\" >Site</th>\n",
       "      <th id=\"T_ea63a_level0_col5\" class=\"col_heading level0 col5\" >Subnet</th>\n",
       "      <th id=\"T_ea63a_level0_col6\" class=\"col_heading level0 col6\" >Gateway</th>\n",
       "      <th id=\"T_ea63a_level0_col7\" class=\"col_heading level0 col7\" >State</th>\n",
       "      <th id=\"T_ea63a_level0_col8\" class=\"col_heading level0 col8\" >Error</th>\n",
       "    </tr>\n",
       "  </thead>\n",
       "  <tbody>\n",
       "    <tr>\n",
       "      <td id=\"T_ea63a_row0_col0\" class=\"data row0 col0\" >0a1f9768-6c87-4a79-8672-3af296d41d7c</td>\n",
       "      <td id=\"T_ea63a_row0_col1\" class=\"data row0 col1\" >TRANSATLANTIC_L2</td>\n",
       "      <td id=\"T_ea63a_row0_col2\" class=\"data row0 col2\" >L2</td>\n",
       "      <td id=\"T_ea63a_row0_col3\" class=\"data row0 col3\" >L2STS</td>\n",
       "      <td id=\"T_ea63a_row0_col4\" class=\"data row0 col4\" >None</td>\n",
       "      <td id=\"T_ea63a_row0_col5\" class=\"data row0 col5\" >TRANSATLANTIC_L2.subnet</td>\n",
       "      <td id=\"T_ea63a_row0_col6\" class=\"data row0 col6\" >TRANSATLANTIC_L2.gateway</td>\n",
       "      <td id=\"T_ea63a_row0_col7\" class=\"data row0 col7\" >Closed</td>\n",
       "      <td id=\"T_ea63a_row0_col8\" class=\"data row0 col8\" >failed lease update- all units failed priming: Exception during create for unit: 0a1f9768-6c87-4a79-8672-3af296d41d7c Playbook has failed tasks: NSO exists invalid params. path = /ncs:services/l2sts:l2stsTRANSATLANTIC_L2-0a1f9768-6c87-4a79-8672-3af296d41d7c/site-a/interfaceGeneric 16 0#all units failed priming: Exception during create for unit: 0a1f9768-6c87-4a79-8672-3af296d41d7c Playbook has failed tasks: NSO exists invalid params. path = /ncs:services/l2sts:l2stsTRANSATLANTIC_L2-0a1f9768-6c87-4a79-8672-3af296d41d7c/site-a/interfaceGeneric 16 0#</td>\n",
       "    </tr>\n",
       "  </tbody>\n",
       "</table>\n"
      ],
      "text/plain": [
       "<pandas.io.formats.style.Styler at 0x7860483fd090>"
      ]
     },
     "metadata": {},
     "output_type": "display_data"
    },
    {
     "name": "stdout",
     "output_type": "stream",
     "text": [
      "\n",
      "Time to StableError 247 seconds\n",
      "Running post_boot_config ... \n",
      "Running post boot config threads ...\n",
      "Post boot config dynamos-core, Done! (6 sec)\n",
      "Post boot config client_3, Done! (7 sec)\n",
      "Post boot config client_2, Done! (9 sec)\n",
      "Post boot config client_1, Done! (9 sec)\n",
      "Saving fablib data... "
     ]
    },
    {
     "ename": "Exception",
     "evalue": "Slice Exception: Slice Name: indis_dynamos-v3, Slice ID: fca2131f-b04c-49b2-a434-633a3c1b379d: Slice Exception: Slice Name: indis_dynamos-v3, Slice ID: fca2131f-b04c-49b2-a434-633a3c1b379d: Node: client_1, Site: AMST, State: Active, \nSlice Exception: Slice Name: indis_dynamos-v3, Slice ID: fca2131f-b04c-49b2-a434-633a3c1b379d: Slice Exception: Slice Name: indis_dynamos-v3, Slice ID: fca2131f-b04c-49b2-a434-633a3c1b379d: Node: client_1, Site: AMST, State: Active, \nNode: client_2, Site: AMST, State: Active, \nSlice Exception: Slice Name: indis_dynamos-v3, Slice ID: fca2131f-b04c-49b2-a434-633a3c1b379d: Slice Exception: Slice Name: indis_dynamos-v3, Slice ID: fca2131f-b04c-49b2-a434-633a3c1b379d: Node: client_1, Site: AMST, State: Active, \nSlice Exception: Slice Name: indis_dynamos-v3, Slice ID: fca2131f-b04c-49b2-a434-633a3c1b379d: Slice Exception: Slice Name: indis_dynamos-v3, Slice ID: fca2131f-b04c-49b2-a434-633a3c1b379d: Node: client_1, Site: AMST, State: Active, \nNode: client_2, Site: AMST, State: Active, \nNode: client_3, Site: CIEN, State: Active, \nSlice Exception: Slice Name: indis_dynamos-v3, Slice ID: fca2131f-b04c-49b2-a434-633a3c1b379d: Slice Exception: Slice Name: indis_dynamos-v3, Slice ID: fca2131f-b04c-49b2-a434-633a3c1b379d: Node: client_1, Site: AMST, State: Active, \nSlice Exception: Slice Name: indis_dynamos-v3, Slice ID: fca2131f-b04c-49b2-a434-633a3c1b379d: Slice Exception: Slice Name: indis_dynamos-v3, Slice ID: fca2131f-b04c-49b2-a434-633a3c1b379d: Node: client_1, Site: AMST, State: Active, \nNode: client_2, Site: AMST, State: Active, \nSlice Exception: Slice Name: indis_dynamos-v3, Slice ID: fca2131f-b04c-49b2-a434-633a3c1b379d: Slice Exception: Slice Name: indis_dynamos-v3, Slice ID: fca2131f-b04c-49b2-a434-633a3c1b379d: Node: client_1, Site: AMST, State: Active, \nSlice Exception: Slice Name: indis_dynamos-v3, Slice ID: fca2131f-b04c-49b2-a434-633a3c1b379d: Slice Exception: Slice Name: indis_dynamos-v3, Slice ID: fca2131f-b04c-49b2-a434-633a3c1b379d: Node: client_1, Site: AMST, State: Active, \nNode: client_2, Site: AMST, State: Active, \nNode: client_3, Site: CIEN, State: Active, \nNode: dynamos-core, Site: CIEN, State: Active, \nSlice Exception: Slice Name: indis_dynamos-v3, Slice ID: fca2131f-b04c-49b2-a434-633a3c1b379d: Slice Exception: Slice Name: indis_dynamos-v3, Slice ID: fca2131f-b04c-49b2-a434-633a3c1b379d: Node: client_1, Site: AMST, State: Active, \nSlice Exception: Slice Name: indis_dynamos-v3, Slice ID: fca2131f-b04c-49b2-a434-633a3c1b379d: Slice Exception: Slice Name: indis_dynamos-v3, Slice ID: fca2131f-b04c-49b2-a434-633a3c1b379d: Node: client_1, Site: AMST, State: Active, \nNode: client_2, Site: AMST, State: Active, \nSlice Exception: Slice Name: indis_dynamos-v3, Slice ID: fca2131f-b04c-49b2-a434-633a3c1b379d: Slice Exception: Slice Name: indis_dynamos-v3, Slice ID: fca2131f-b04c-49b2-a434-633a3c1b379d: Node: client_1, Site: AMST, State: Active, \nSlice Exception: Slice Name: indis_dynamos-v3, Slice ID: fca2131f-b04c-49b2-a434-633a3c1b379d: Slice Exception: Slice Name: indis_dynamos-v3, Slice ID: fca2131f-b04c-49b2-a434-633a3c1b379d: Node: client_1, Site: AMST, State: Active, \nNode: client_2, Site: AMST, State: Active, \nNode: client_3, Site: CIEN, State: Active, \nSlice Exception: Slice Name: indis_dynamos-v3, Slice ID: fca2131f-b04c-49b2-a434-633a3c1b379d: Slice Exception: Slice Name: indis_dynamos-v3, Slice ID: fca2131f-b04c-49b2-a434-633a3c1b379d: Node: client_1, Site: AMST, State: Active, \nSlice Exception: Slice Name: indis_dynamos-v3, Slice ID: fca2131f-b04c-49b2-a434-633a3c1b379d: Slice Exception: Slice Name: indis_dynamos-v3, Slice ID: fca2131f-b04c-49b2-a434-633a3c1b379d: Node: client_1, Site: AMST, State: Active, \nNode: client_2, Site: AMST, State: Active, \nSlice Exception: Slice Name: indis_dynamos-v3, Slice ID: fca2131f-b04c-49b2-a434-633a3c1b379d: Slice Exception: Slice Name: indis_dynamos-v3, Slice ID: fca2131f-b04c-49b2-a434-633a3c1b379d: Node: client_1, Site: AMST, State: Active, \nSlice Exception: Slice Name: indis_dynamos-v3, Slice ID: fca2131f-b04c-49b2-a434-633a3c1b379d: Slice Exception: Slice Name: indis_dynamos-v3, Slice ID: fca2131f-b04c-49b2-a434-633a3c1b379d: Node: client_1, Site: AMST, State: Active, \nNode: client_2, Site: AMST, State: Active, \nNode: client_3, Site: CIEN, State: Active, \nNode: dynamos-core, Site: CIEN, State: Active, \nfailed lease update- all units failed priming: Exception during create for unit: 0a1f9768-6c87-4a79-8672-3af296d41d7c Playbook has failed tasks: NSO exists invalid params. path = /ncs:services/l2sts:l2stsTRANSATLANTIC_L2-0a1f9768-6c87-4a79-8672-3af296d41d7c/site-a/interfaceGeneric 16 0#all units failed priming: Exception during create for unit: 0a1f9768-6c87-4a79-8672-3af296d41d7c Playbook has failed tasks: NSO exists invalid params. path = /ncs:services/l2sts:l2stsTRANSATLANTIC_L2-0a1f9768-6c87-4a79-8672-3af296d41d7c/site-a/interfaceGeneric 16 0#\nSlice Exception: Slice Name: indis_dynamos-v3, Slice ID: fca2131f-b04c-49b2-a434-633a3c1b379d: Slice Exception: Slice Name: indis_dynamos-v3, Slice ID: fca2131f-b04c-49b2-a434-633a3c1b379d: Node: client_1, Site: AMST, State: Active, \nSlice Exception: Slice Name: indis_dynamos-v3, Slice ID: fca2131f-b04c-49b2-a434-633a3c1b379d: Slice Exception: Slice Name: indis_dynamos-v3, Slice ID: fca2131f-b04c-49b2-a434-633a3c1b379d: Node: client_1, Site: AMST, State: Active, \nNode: client_2, Site: AMST, State: Active, \nSlice Exception: Slice Name: indis_dynamos-v3, Slice ID: fca2131f-b04c-49b2-a434-633a3c1b379d: Slice Exception: Slice Name: indis_dynamos-v3, Slice ID: fca2131f-b04c-49b2-a434-633a3c1b379d: Node: client_1, Site: AMST, State: Active, \nSlice Exception: Slice Name: indis_dynamos-v3, Slice ID: fca2131f-b04c-49b2-a434-633a3c1b379d: Slice Exception: Slice Name: indis_dynamos-v3, Slice ID: fca2131f-b04c-49b2-a434-633a3c1b379d: Node: client_1, Site: AMST, State: Active, \nNode: client_2, Site: AMST, State: Active, \nNode: client_3, Site: CIEN, State: Active, \nSlice Exception: Slice Name: indis_dynamos-v3, Slice ID: fca2131f-b04c-49b2-a434-633a3c1b379d: Slice Exception: Slice Name: indis_dynamos-v3, Slice ID: fca2131f-b04c-49b2-a434-633a3c1b379d: Node: client_1, Site: AMST, State: Active, \nSlice Exception: Slice Name: indis_dynamos-v3, Slice ID: fca2131f-b04c-49b2-a434-633a3c1b379d: Slice Exception: Slice Name: indis_dynamos-v3, Slice ID: fca2131f-b04c-49b2-a434-633a3c1b379d: Node: client_1, Site: AMST, State: Active, \nNode: client_2, Site: AMST, State: Active, \nSlice Exception: Slice Name: indis_dynamos-v3, Slice ID: fca2131f-b04c-49b2-a434-633a3c1b379d: Slice Exception: Slice Name: indis_dynamos-v3, Slice ID: fca2131f-b04c-49b2-a434-633a3c1b379d: Node: client_1, Site: AMST, State: Active, \nSlice Exception: Slice Name: indis_dynamos-v3, Slice ID: fca2131f-b04c-49b2-a434-633a3c1b379d: Slice Exception: Slice Name: indis_dynamos-v3, Slice ID: fca2131f-b04c-49b2-a434-633a3c1b379d: Node: client_1, Site: AMST, State: Active, \nNode: client_2, Site: AMST, State: Active, \nNode: client_3, Site: CIEN, State: Active, \nNode: dynamos-core, Site: CIEN, State: Active, \nSlice Exception: Slice Name: indis_dynamos-v3, Slice ID: fca2131f-b04c-49b2-a434-633a3c1b379d: Slice Exception: Slice Name: indis_dynamos-v3, Slice ID: fca2131f-b04c-49b2-a434-633a3c1b379d: Node: client_1, Site: AMST, State: Active, \nSlice Exception: Slice Name: indis_dynamos-v3, Slice ID: fca2131f-b04c-49b2-a434-633a3c1b379d: Slice Exception: Slice Name: indis_dynamos-v3, Slice ID: fca2131f-b04c-49b2-a434-633a3c1b379d: Node: client_1, Site: AMST, State: Active, \nNode: client_2, Site: AMST, State: Active, \nSlice Exception: Slice Name: indis_dynamos-v3, Slice ID: fca2131f-b04c-49b2-a434-633a3c1b379d: Slice Exception: Slice Name: indis_dynamos-v3, Slice ID: fca2131f-b04c-49b2-a434-633a3c1b379d: Node: client_1, Site: AMST, State: Active, \nSlice Exception: Slice Name: indis_dynamos-v3, Slice ID: fca2131f-b04c-49b2-a434-633a3c1b379d: Slice Exception: Slice Name: indis_dynamos-v3, Slice ID: fca2131f-b04c-49b2-a434-633a3c1b379d: Node: client_1, Site: AMST, State: Active, \nNode: client_2, Site: AMST, State: Active, \nNode: client_3, Site: CIEN, State: Active, \nSlice Exception: Slice Name: indis_dynamos-v3, Slice ID: fca2131f-b04c-49b2-a434-633a3c1b379d: Slice Exception: Slice Name: indis_dynamos-v3, Slice ID: fca2131f-b04c-49b2-a434-633a3c1b379d: Node: client_1, Site: AMST, State: Active, \nSlice Exception: Slice Name: indis_dynamos-v3, Slice ID: fca2131f-b04c-49b2-a434-633a3c1b379d: Slice Exception: Slice Name: indis_dynamos-v3, Slice ID: fca2131f-b04c-49b2-a434-633a3c1b379d: Node: client_1, Site: AMST, State: Active, \nNode: client_2, Site: AMST, State: Active, \nSlice Exception: Slice Name: indis_dynamos-v3, Slice ID: fca2131f-b04c-49b2-a434-633a3c1b379d: Slice Exception: Slice Name: indis_dynamos-v3, Slice ID: fca2131f-b04c-49b2-a434-633a3c1b379d: Node: client_1, Site: AMST, State: Active, \nSlice Exception: Slice Name: indis_dynamos-v3, Slice ID: fca2131f-b04c-49b2-a434-633a3c1b379d: Slice Exception: Slice Name: indis_dynamos-v3, Slice ID: fca2131f-b04c-49b2-a434-633a3c1b379d: Node: client_1, Site: AMST, State: Active, \nNode: client_2, Site: AMST, State: Active, \nNode: client_3, Site: CIEN, State: Active, \nNode: dynamos-core, Site: CIEN, State: Active, \nfailed lease update- all units failed priming: Exception during create for unit: 0a1f9768-6c87-4a79-8672-3af296d41d7c Playbook has failed tasks: NSO exists invalid params. path = /ncs:services/l2sts:l2stsTRANSATLANTIC_L2-0a1f9768-6c87-4a79-8672-3af296d41d7c/site-a/interfaceGeneric 16 0#all units failed priming: Exception during create for unit: 0a1f9768-6c87-4a79-8672-3af296d41d7c Playbook has failed tasks: NSO exists invalid params. path = /ncs:services/l2sts:l2stsTRANSATLANTIC_L2-0a1f9768-6c87-4a79-8672-3af296d41d7c/site-a/interfaceGeneric 16 0#\n\n",
     "output_type": "error",
     "traceback": [
      "\u001b[0;31m---------------------------------------------------------------------------\u001b[0m",
      "\u001b[0;31mException\u001b[0m                                 Traceback (most recent call last)",
      "Cell \u001b[0;32mIn[28], line 2\u001b[0m\n\u001b[1;32m      1\u001b[0m \u001b[38;5;66;03m# Submit Slice\u001b[39;00m\n\u001b[0;32m----> 2\u001b[0m slice_id \u001b[38;5;241m=\u001b[39m \u001b[38;5;28;43mslice\u001b[39;49m\u001b[38;5;241;43m.\u001b[39;49m\u001b[43msubmit\u001b[49m\u001b[43m(\u001b[49m\u001b[43m)\u001b[49m\n",
      "File \u001b[0;32m/opt/conda/lib/python3.11/site-packages/fabrictestbed_extensions/fablib/slice.py:2292\u001b[0m, in \u001b[0;36mSlice.submit\u001b[0;34m(self, wait, wait_timeout, wait_interval, progress, wait_jupyter, post_boot_config, wait_ssh, extra_ssh_keys, lease_start_time, lease_in_days, validate)\u001b[0m\n\u001b[1;32m   2281\u001b[0m     \u001b[38;5;28;01mraise\u001b[39;00m \u001b[38;5;167;01mException\u001b[39;00m(\n\u001b[1;32m   2282\u001b[0m         \u001b[38;5;124m\"\u001b[39m\u001b[38;5;124mFailed to submit slice: \u001b[39m\u001b[38;5;132;01m{}\u001b[39;00m\u001b[38;5;124m, \u001b[39m\u001b[38;5;132;01m{}\u001b[39;00m\u001b[38;5;124m\"\u001b[39m\u001b[38;5;241m.\u001b[39mformat(\n\u001b[1;32m   2283\u001b[0m             return_status, slice_reservations\n\u001b[1;32m   2284\u001b[0m         )\n\u001b[1;32m   2285\u001b[0m     )\n\u001b[1;32m   2287\u001b[0m \u001b[38;5;28;01mif\u001b[39;00m (\n\u001b[1;32m   2288\u001b[0m     progress\n\u001b[1;32m   2289\u001b[0m     \u001b[38;5;129;01mand\u001b[39;00m wait_jupyter \u001b[38;5;241m==\u001b[39m \u001b[38;5;124m\"\u001b[39m\u001b[38;5;124mtext\u001b[39m\u001b[38;5;124m\"\u001b[39m\n\u001b[1;32m   2290\u001b[0m     \u001b[38;5;129;01mand\u001b[39;00m \u001b[38;5;28mself\u001b[39m\u001b[38;5;241m.\u001b[39mfablib_manager\u001b[38;5;241m.\u001b[39mis_jupyter_notebook()\n\u001b[1;32m   2291\u001b[0m ):\n\u001b[0;32m-> 2292\u001b[0m     \u001b[38;5;28;43mself\u001b[39;49m\u001b[38;5;241;43m.\u001b[39;49m\u001b[43mwait_jupyter\u001b[49m\u001b[43m(\u001b[49m\u001b[43mtimeout\u001b[49m\u001b[38;5;241;43m=\u001b[39;49m\u001b[43mwait_timeout\u001b[49m\u001b[43m,\u001b[49m\u001b[43m \u001b[49m\u001b[43minterval\u001b[49m\u001b[38;5;241;43m=\u001b[39;49m\u001b[43mwait_interval\u001b[49m\u001b[43m)\u001b[49m\n\u001b[1;32m   2293\u001b[0m     \u001b[38;5;28;01mreturn\u001b[39;00m \u001b[38;5;28mself\u001b[39m\u001b[38;5;241m.\u001b[39mslice_id\n\u001b[1;32m   2295\u001b[0m \u001b[38;5;28;01melif\u001b[39;00m wait:\n",
      "File \u001b[0;32m/opt/conda/lib/python3.11/site-packages/fabrictestbed_extensions/fablib/slice.py:2098\u001b[0m, in \u001b[0;36mSlice.wait_jupyter\u001b[0;34m(self, timeout, interval, verbose)\u001b[0m\n\u001b[1;32m   2096\u001b[0m \u001b[38;5;28;01mif\u001b[39;00m stable:\n\u001b[1;32m   2097\u001b[0m     \u001b[38;5;28mprint\u001b[39m(\u001b[38;5;124m\"\u001b[39m\u001b[38;5;124mRunning post_boot_config ... \u001b[39m\u001b[38;5;124m\"\u001b[39m)\n\u001b[0;32m-> 2098\u001b[0m     \u001b[38;5;28;43mself\u001b[39;49m\u001b[38;5;241;43m.\u001b[39;49m\u001b[43mpost_boot_config\u001b[49m\u001b[43m(\u001b[49m\u001b[43m)\u001b[49m\n\u001b[1;32m   2099\u001b[0m     \u001b[38;5;28mprint\u001b[39m(\u001b[38;5;124mf\u001b[39m\u001b[38;5;124m\"\u001b[39m\u001b[38;5;124mTime to post boot config \u001b[39m\u001b[38;5;132;01m{\u001b[39;00mtime\u001b[38;5;241m.\u001b[39mtime()\u001b[38;5;250m \u001b[39m\u001b[38;5;241m-\u001b[39m\u001b[38;5;250m \u001b[39mstart\u001b[38;5;132;01m:\u001b[39;00m\u001b[38;5;124m.0f\u001b[39m\u001b[38;5;132;01m}\u001b[39;00m\u001b[38;5;124m seconds\u001b[39m\u001b[38;5;124m\"\u001b[39m)\n\u001b[1;32m   2100\u001b[0m \u001b[38;5;28;01melif\u001b[39;00m allocated:\n",
      "File \u001b[0;32m/opt/conda/lib/python3.11/site-packages/fabrictestbed_extensions/fablib/slice.py:1896\u001b[0m, in \u001b[0;36mSlice.post_boot_config\u001b[0;34m(self)\u001b[0m\n\u001b[1;32m   1892\u001b[0m \u001b[38;5;66;03m# print(f\"ALL Nodes, Done! ({time.time() - start:.0f} sec)\")\u001b[39;00m\n\u001b[1;32m   1893\u001b[0m \n\u001b[1;32m   1894\u001b[0m \u001b[38;5;66;03m# Push updates to user_data\u001b[39;00m\n\u001b[1;32m   1895\u001b[0m \u001b[38;5;28mprint\u001b[39m(\u001b[38;5;124m\"\u001b[39m\u001b[38;5;124mSaving fablib data... \u001b[39m\u001b[38;5;124m\"\u001b[39m, end\u001b[38;5;241m=\u001b[39m\u001b[38;5;124m\"\u001b[39m\u001b[38;5;124m\"\u001b[39m)\n\u001b[0;32m-> 1896\u001b[0m \u001b[38;5;28;43mself\u001b[39;49m\u001b[38;5;241;43m.\u001b[39;49m\u001b[43msubmit\u001b[49m\u001b[43m(\u001b[49m\u001b[43mwait\u001b[49m\u001b[38;5;241;43m=\u001b[39;49m\u001b[38;5;28;43;01mTrue\u001b[39;49;00m\u001b[43m,\u001b[49m\u001b[43m \u001b[49m\u001b[43mprogress\u001b[49m\u001b[38;5;241;43m=\u001b[39;49m\u001b[38;5;28;43;01mFalse\u001b[39;49;00m\u001b[43m,\u001b[49m\u001b[43m \u001b[49m\u001b[43mpost_boot_config\u001b[49m\u001b[38;5;241;43m=\u001b[39;49m\u001b[38;5;28;43;01mFalse\u001b[39;49;00m\u001b[43m,\u001b[49m\u001b[43m \u001b[49m\u001b[43mwait_ssh\u001b[49m\u001b[38;5;241;43m=\u001b[39;49m\u001b[38;5;28;43;01mFalse\u001b[39;49;00m\u001b[43m)\u001b[49m\n\u001b[1;32m   1897\u001b[0m \u001b[38;5;28mself\u001b[39m\u001b[38;5;241m.\u001b[39mupdate()\n\u001b[1;32m   1898\u001b[0m \u001b[38;5;28mprint\u001b[39m(\u001b[38;5;124m\"\u001b[39m\u001b[38;5;124m Done!\u001b[39m\u001b[38;5;124m\"\u001b[39m)\n",
      "File \u001b[0;32m/opt/conda/lib/python3.11/site-packages/fabrictestbed_extensions/fablib/slice.py:2298\u001b[0m, in \u001b[0;36mSlice.submit\u001b[0;34m(self, wait, wait_timeout, wait_interval, progress, wait_jupyter, post_boot_config, wait_ssh, extra_ssh_keys, lease_start_time, lease_in_days, validate)\u001b[0m\n\u001b[1;32m   2295\u001b[0m \u001b[38;5;28;01melif\u001b[39;00m wait:\n\u001b[1;32m   2296\u001b[0m     \u001b[38;5;28mself\u001b[39m\u001b[38;5;241m.\u001b[39mupdate()\n\u001b[0;32m-> 2298\u001b[0m     \u001b[38;5;28;43mself\u001b[39;49m\u001b[38;5;241;43m.\u001b[39;49m\u001b[43mwait\u001b[49m\u001b[43m(\u001b[49m\u001b[43mtimeout\u001b[49m\u001b[38;5;241;43m=\u001b[39;49m\u001b[43mwait_timeout\u001b[49m\u001b[43m,\u001b[49m\u001b[43m \u001b[49m\u001b[43minterval\u001b[49m\u001b[38;5;241;43m=\u001b[39;49m\u001b[43mwait_interval\u001b[49m\u001b[43m)\u001b[49m\n\u001b[1;32m   2300\u001b[0m     \u001b[38;5;28;01mif\u001b[39;00m wait_ssh:\n\u001b[1;32m   2301\u001b[0m         \u001b[38;5;28mself\u001b[39m\u001b[38;5;241m.\u001b[39mwait_ssh(\n\u001b[1;32m   2302\u001b[0m             timeout\u001b[38;5;241m=\u001b[39mwait_timeout, interval\u001b[38;5;241m=\u001b[39mwait_interval, progress\u001b[38;5;241m=\u001b[39mprogress\n\u001b[1;32m   2303\u001b[0m         )\n",
      "File \u001b[0;32m/opt/conda/lib/python3.11/site-packages/fabrictestbed_extensions/fablib/slice.py:1712\u001b[0m, in \u001b[0;36mSlice.wait\u001b[0;34m(self, timeout, interval, progress)\u001b[0m\n\u001b[1;32m   1709\u001b[0m         \u001b[38;5;28;01mexcept\u001b[39;00m \u001b[38;5;167;01mException\u001b[39;00m \u001b[38;5;28;01mas\u001b[39;00m e:\n\u001b[1;32m   1710\u001b[0m             exception_string \u001b[38;5;241m=\u001b[39m \u001b[38;5;124m\"\u001b[39m\u001b[38;5;124mException while getting error messages\u001b[39m\u001b[38;5;124m\"\u001b[39m\n\u001b[0;32m-> 1712\u001b[0m         \u001b[38;5;28;01mraise\u001b[39;00m \u001b[38;5;167;01mException\u001b[39;00m(\u001b[38;5;28mstr\u001b[39m(exception_string))\n\u001b[1;32m   1713\u001b[0m \u001b[38;5;28;01melse\u001b[39;00m:\n\u001b[1;32m   1714\u001b[0m     \u001b[38;5;28mprint\u001b[39m(\u001b[38;5;124mf\u001b[39m\u001b[38;5;124m\"\u001b[39m\u001b[38;5;124mFailure: \u001b[39m\u001b[38;5;132;01m{\u001b[39;00mslices\u001b[38;5;132;01m}\u001b[39;00m\u001b[38;5;124m\"\u001b[39m)\n",
      "\u001b[0;31mException\u001b[0m: Slice Exception: Slice Name: indis_dynamos-v3, Slice ID: fca2131f-b04c-49b2-a434-633a3c1b379d: Slice Exception: Slice Name: indis_dynamos-v3, Slice ID: fca2131f-b04c-49b2-a434-633a3c1b379d: Node: client_1, Site: AMST, State: Active, \nSlice Exception: Slice Name: indis_dynamos-v3, Slice ID: fca2131f-b04c-49b2-a434-633a3c1b379d: Slice Exception: Slice Name: indis_dynamos-v3, Slice ID: fca2131f-b04c-49b2-a434-633a3c1b379d: Node: client_1, Site: AMST, State: Active, \nNode: client_2, Site: AMST, State: Active, \nSlice Exception: Slice Name: indis_dynamos-v3, Slice ID: fca2131f-b04c-49b2-a434-633a3c1b379d: Slice Exception: Slice Name: indis_dynamos-v3, Slice ID: fca2131f-b04c-49b2-a434-633a3c1b379d: Node: client_1, Site: AMST, State: Active, \nSlice Exception: Slice Name: indis_dynamos-v3, Slice ID: fca2131f-b04c-49b2-a434-633a3c1b379d: Slice Exception: Slice Name: indis_dynamos-v3, Slice ID: fca2131f-b04c-49b2-a434-633a3c1b379d: Node: client_1, Site: AMST, State: Active, \nNode: client_2, Site: AMST, State: Active, \nNode: client_3, Site: CIEN, State: Active, \nSlice Exception: Slice Name: indis_dynamos-v3, Slice ID: fca2131f-b04c-49b2-a434-633a3c1b379d: Slice Exception: Slice Name: indis_dynamos-v3, Slice ID: fca2131f-b04c-49b2-a434-633a3c1b379d: Node: client_1, Site: AMST, State: Active, \nSlice Exception: Slice Name: indis_dynamos-v3, Slice ID: fca2131f-b04c-49b2-a434-633a3c1b379d: Slice Exception: Slice Name: indis_dynamos-v3, Slice ID: fca2131f-b04c-49b2-a434-633a3c1b379d: Node: client_1, Site: AMST, State: Active, \nNode: client_2, Site: AMST, State: Active, \nSlice Exception: Slice Name: indis_dynamos-v3, Slice ID: fca2131f-b04c-49b2-a434-633a3c1b379d: Slice Exception: Slice Name: indis_dynamos-v3, Slice ID: fca2131f-b04c-49b2-a434-633a3c1b379d: Node: client_1, Site: AMST, State: Active, \nSlice Exception: Slice Name: indis_dynamos-v3, Slice ID: fca2131f-b04c-49b2-a434-633a3c1b379d: Slice Exception: Slice Name: indis_dynamos-v3, Slice ID: fca2131f-b04c-49b2-a434-633a3c1b379d: Node: client_1, Site: AMST, State: Active, \nNode: client_2, Site: AMST, State: Active, \nNode: client_3, Site: CIEN, State: Active, \nNode: dynamos-core, Site: CIEN, State: Active, \nSlice Exception: Slice Name: indis_dynamos-v3, Slice ID: fca2131f-b04c-49b2-a434-633a3c1b379d: Slice Exception: Slice Name: indis_dynamos-v3, Slice ID: fca2131f-b04c-49b2-a434-633a3c1b379d: Node: client_1, Site: AMST, State: Active, \nSlice Exception: Slice Name: indis_dynamos-v3, Slice ID: fca2131f-b04c-49b2-a434-633a3c1b379d: Slice Exception: Slice Name: indis_dynamos-v3, Slice ID: fca2131f-b04c-49b2-a434-633a3c1b379d: Node: client_1, Site: AMST, State: Active, \nNode: client_2, Site: AMST, State: Active, \nSlice Exception: Slice Name: indis_dynamos-v3, Slice ID: fca2131f-b04c-49b2-a434-633a3c1b379d: Slice Exception: Slice Name: indis_dynamos-v3, Slice ID: fca2131f-b04c-49b2-a434-633a3c1b379d: Node: client_1, Site: AMST, State: Active, \nSlice Exception: Slice Name: indis_dynamos-v3, Slice ID: fca2131f-b04c-49b2-a434-633a3c1b379d: Slice Exception: Slice Name: indis_dynamos-v3, Slice ID: fca2131f-b04c-49b2-a434-633a3c1b379d: Node: client_1, Site: AMST, State: Active, \nNode: client_2, Site: AMST, State: Active, \nNode: client_3, Site: CIEN, State: Active, \nSlice Exception: Slice Name: indis_dynamos-v3, Slice ID: fca2131f-b04c-49b2-a434-633a3c1b379d: Slice Exception: Slice Name: indis_dynamos-v3, Slice ID: fca2131f-b04c-49b2-a434-633a3c1b379d: Node: client_1, Site: AMST, State: Active, \nSlice Exception: Slice Name: indis_dynamos-v3, Slice ID: fca2131f-b04c-49b2-a434-633a3c1b379d: Slice Exception: Slice Name: indis_dynamos-v3, Slice ID: fca2131f-b04c-49b2-a434-633a3c1b379d: Node: client_1, Site: AMST, State: Active, \nNode: client_2, Site: AMST, State: Active, \nSlice Exception: Slice Name: indis_dynamos-v3, Slice ID: fca2131f-b04c-49b2-a434-633a3c1b379d: Slice Exception: Slice Name: indis_dynamos-v3, Slice ID: fca2131f-b04c-49b2-a434-633a3c1b379d: Node: client_1, Site: AMST, State: Active, \nSlice Exception: Slice Name: indis_dynamos-v3, Slice ID: fca2131f-b04c-49b2-a434-633a3c1b379d: Slice Exception: Slice Name: indis_dynamos-v3, Slice ID: fca2131f-b04c-49b2-a434-633a3c1b379d: Node: client_1, Site: AMST, State: Active, \nNode: client_2, Site: AMST, State: Active, \nNode: client_3, Site: CIEN, State: Active, \nNode: dynamos-core, Site: CIEN, State: Active, \nfailed lease update- all units failed priming: Exception during create for unit: 0a1f9768-6c87-4a79-8672-3af296d41d7c Playbook has failed tasks: NSO exists invalid params. path = /ncs:services/l2sts:l2stsTRANSATLANTIC_L2-0a1f9768-6c87-4a79-8672-3af296d41d7c/site-a/interfaceGeneric 16 0#all units failed priming: Exception during create for unit: 0a1f9768-6c87-4a79-8672-3af296d41d7c Playbook has failed tasks: NSO exists invalid params. path = /ncs:services/l2sts:l2stsTRANSATLANTIC_L2-0a1f9768-6c87-4a79-8672-3af296d41d7c/site-a/interfaceGeneric 16 0#\nSlice Exception: Slice Name: indis_dynamos-v3, Slice ID: fca2131f-b04c-49b2-a434-633a3c1b379d: Slice Exception: Slice Name: indis_dynamos-v3, Slice ID: fca2131f-b04c-49b2-a434-633a3c1b379d: Node: client_1, Site: AMST, State: Active, \nSlice Exception: Slice Name: indis_dynamos-v3, Slice ID: fca2131f-b04c-49b2-a434-633a3c1b379d: Slice Exception: Slice Name: indis_dynamos-v3, Slice ID: fca2131f-b04c-49b2-a434-633a3c1b379d: Node: client_1, Site: AMST, State: Active, \nNode: client_2, Site: AMST, State: Active, \nSlice Exception: Slice Name: indis_dynamos-v3, Slice ID: fca2131f-b04c-49b2-a434-633a3c1b379d: Slice Exception: Slice Name: indis_dynamos-v3, Slice ID: fca2131f-b04c-49b2-a434-633a3c1b379d: Node: client_1, Site: AMST, State: Active, \nSlice Exception: Slice Name: indis_dynamos-v3, Slice ID: fca2131f-b04c-49b2-a434-633a3c1b379d: Slice Exception: Slice Name: indis_dynamos-v3, Slice ID: fca2131f-b04c-49b2-a434-633a3c1b379d: Node: client_1, Site: AMST, State: Active, \nNode: client_2, Site: AMST, State: Active, \nNode: client_3, Site: CIEN, State: Active, \nSlice Exception: Slice Name: indis_dynamos-v3, Slice ID: fca2131f-b04c-49b2-a434-633a3c1b379d: Slice Exception: Slice Name: indis_dynamos-v3, Slice ID: fca2131f-b04c-49b2-a434-633a3c1b379d: Node: client_1, Site: AMST, State: Active, \nSlice Exception: Slice Name: indis_dynamos-v3, Slice ID: fca2131f-b04c-49b2-a434-633a3c1b379d: Slice Exception: Slice Name: indis_dynamos-v3, Slice ID: fca2131f-b04c-49b2-a434-633a3c1b379d: Node: client_1, Site: AMST, State: Active, \nNode: client_2, Site: AMST, State: Active, \nSlice Exception: Slice Name: indis_dynamos-v3, Slice ID: fca2131f-b04c-49b2-a434-633a3c1b379d: Slice Exception: Slice Name: indis_dynamos-v3, Slice ID: fca2131f-b04c-49b2-a434-633a3c1b379d: Node: client_1, Site: AMST, State: Active, \nSlice Exception: Slice Name: indis_dynamos-v3, Slice ID: fca2131f-b04c-49b2-a434-633a3c1b379d: Slice Exception: Slice Name: indis_dynamos-v3, Slice ID: fca2131f-b04c-49b2-a434-633a3c1b379d: Node: client_1, Site: AMST, State: Active, \nNode: client_2, Site: AMST, State: Active, \nNode: client_3, Site: CIEN, State: Active, \nNode: dynamos-core, Site: CIEN, State: Active, \nSlice Exception: Slice Name: indis_dynamos-v3, Slice ID: fca2131f-b04c-49b2-a434-633a3c1b379d: Slice Exception: Slice Name: indis_dynamos-v3, Slice ID: fca2131f-b04c-49b2-a434-633a3c1b379d: Node: client_1, Site: AMST, State: Active, \nSlice Exception: Slice Name: indis_dynamos-v3, Slice ID: fca2131f-b04c-49b2-a434-633a3c1b379d: Slice Exception: Slice Name: indis_dynamos-v3, Slice ID: fca2131f-b04c-49b2-a434-633a3c1b379d: Node: client_1, Site: AMST, State: Active, \nNode: client_2, Site: AMST, State: Active, \nSlice Exception: Slice Name: indis_dynamos-v3, Slice ID: fca2131f-b04c-49b2-a434-633a3c1b379d: Slice Exception: Slice Name: indis_dynamos-v3, Slice ID: fca2131f-b04c-49b2-a434-633a3c1b379d: Node: client_1, Site: AMST, State: Active, \nSlice Exception: Slice Name: indis_dynamos-v3, Slice ID: fca2131f-b04c-49b2-a434-633a3c1b379d: Slice Exception: Slice Name: indis_dynamos-v3, Slice ID: fca2131f-b04c-49b2-a434-633a3c1b379d: Node: client_1, Site: AMST, State: Active, \nNode: client_2, Site: AMST, State: Active, \nNode: client_3, Site: CIEN, State: Active, \nSlice Exception: Slice Name: indis_dynamos-v3, Slice ID: fca2131f-b04c-49b2-a434-633a3c1b379d: Slice Exception: Slice Name: indis_dynamos-v3, Slice ID: fca2131f-b04c-49b2-a434-633a3c1b379d: Node: client_1, Site: AMST, State: Active, \nSlice Exception: Slice Name: indis_dynamos-v3, Slice ID: fca2131f-b04c-49b2-a434-633a3c1b379d: Slice Exception: Slice Name: indis_dynamos-v3, Slice ID: fca2131f-b04c-49b2-a434-633a3c1b379d: Node: client_1, Site: AMST, State: Active, \nNode: client_2, Site: AMST, State: Active, \nSlice Exception: Slice Name: indis_dynamos-v3, Slice ID: fca2131f-b04c-49b2-a434-633a3c1b379d: Slice Exception: Slice Name: indis_dynamos-v3, Slice ID: fca2131f-b04c-49b2-a434-633a3c1b379d: Node: client_1, Site: AMST, State: Active, \nSlice Exception: Slice Name: indis_dynamos-v3, Slice ID: fca2131f-b04c-49b2-a434-633a3c1b379d: Slice Exception: Slice Name: indis_dynamos-v3, Slice ID: fca2131f-b04c-49b2-a434-633a3c1b379d: Node: client_1, Site: AMST, State: Active, \nNode: client_2, Site: AMST, State: Active, \nNode: client_3, Site: CIEN, State: Active, \nNode: dynamos-core, Site: CIEN, State: Active, \nfailed lease update- all units failed priming: Exception during create for unit: 0a1f9768-6c87-4a79-8672-3af296d41d7c Playbook has failed tasks: NSO exists invalid params. path = /ncs:services/l2sts:l2stsTRANSATLANTIC_L2-0a1f9768-6c87-4a79-8672-3af296d41d7c/site-a/interfaceGeneric 16 0#all units failed priming: Exception during create for unit: 0a1f9768-6c87-4a79-8672-3af296d41d7c Playbook has failed tasks: NSO exists invalid params. path = /ncs:services/l2sts:l2stsTRANSATLANTIC_L2-0a1f9768-6c87-4a79-8672-3af296d41d7c/site-a/interfaceGeneric 16 0#\n\n"
     ]
    }
   ],
   "source": [
    "# Submit Slice\n",
    "slice_id = slice.submit()"
   ]
  },
  {
   "cell_type": "markdown",
   "id": "c3c230ea-bf02-4b08-a8f7-9fc0ec5cc667",
   "metadata": {},
   "source": [
    "## Kubernetes Installation\n",
    "\n",
    "Updated custom K8S installation."
   ]
  },
  {
   "cell_type": "code",
   "execution_count": null,
   "id": "7879ca64-01df-4a31-a889-0cae66aab60f",
   "metadata": {},
   "outputs": [],
   "source": [
    "# Client I (EU)\n",
    "client_1_node = slice.get_node(client_1_node_name)\n",
    "file_attributes = client_1_node.upload_file(local_file_path=\"config_k8s-s.sh\", remote_file_path=\"config_k8s-s.sh\")\n",
    "stdout, stderr = client_1_node.execute(f\"chmod +x config_k8s-s.sh && ./config_k8s-s.sh\") "
   ]
  },
  {
   "cell_type": "code",
   "execution_count": null,
   "id": "ea53ac22-f03a-4179-aa35-8800490f89ad",
   "metadata": {},
   "outputs": [],
   "source": [
    "# Client II (US)\n",
    "client_2_node = slice.get_node(client_2_node_name)\n",
    "file_attributes = client_2_node.upload_file(local_file_path=\"config_k8s-s.sh\", remote_file_path=\"config_k8s-s.sh\")\n",
    "stdout, stderr = client_2_node.execute(f\"chmod +x config_k8s-s.sh && ./config_k8s-s.sh\") "
   ]
  },
  {
   "cell_type": "code",
   "execution_count": null,
   "id": "f58a54b5-bb73-4250-ad5b-f8e2f05cd09f",
   "metadata": {
    "editable": true,
    "slideshow": {
     "slide_type": ""
    },
    "tags": []
   },
   "outputs": [],
   "source": [
    "# DYNAMOS CORE (US)\n",
    "dynamos_core_node = slice.get_node(dynamos_core_node_name)\n",
    "file_attributes = dynamos_core_node.upload_file(local_file_path=\"config_k8s-s.sh\", remote_file_path=\"config_k8s-s.sh\")\n",
    "stdout, stderr = dynamos_core_node.execute(f\"chmod +x config_k8s-s.sh && ./config_k8s-s.sh\") "
   ]
  },
  {
   "cell_type": "markdown",
   "id": "f270b478-479d-4ff5-95f9-4b6c72f732d8",
   "metadata": {},
   "source": [
    "### DYNAMOS CORE Auto Setup & Launch\n",
    "\n",
    "On all nodes."
   ]
  },
  {
   "cell_type": "code",
   "execution_count": null,
   "id": "bbef5961-ceaf-43f9-9750-35852fb8cf1a",
   "metadata": {},
   "outputs": [],
   "source": [
    "# Client I (EU)\n",
    "client_1_node = slice.get_node(client_1_node_name)\n",
    "stdout, stderr = client_1_node.execute(f\"sudo git clone https://github.com/Jorrit05/DYNAMOS.git\")\n",
    "file_attributes = client_1_node.upload_file(local_file_path=\"config_dynamos-l.sh\", remote_file_path=\"config_dynamos-l.sh\")\n",
    "stdout, stderr = client_1_node.execute(f\"chmod +x config_dynamos-l.sh && ./config_dynamos-l.sh\")"
   ]
  },
  {
   "cell_type": "code",
   "execution_count": null,
   "id": "d6b70129-121f-4515-874e-4952e4646303",
   "metadata": {
    "editable": true,
    "slideshow": {
     "slide_type": ""
    },
    "tags": []
   },
   "outputs": [],
   "source": [
    "# Client II (US)\n",
    "client_2_node = slice.get_node(client_2_node_name)\n",
    "stdout, stderr = client_2_node.execute(f\"sudo git clone https://github.com/Jorrit05/DYNAMOS.git\")\n",
    "file_attributes = client_2_node.upload_file(local_file_path=\"config_dynamos-l.sh\", remote_file_path=\"config_dynamos-l.sh\")\n",
    "stdout, stderr = client_2_node.execute(f\"chmod +x config_dynamos-l.sh && ./config_dynamos-l.sh\")"
   ]
  },
  {
   "cell_type": "code",
   "execution_count": null,
   "id": "11dd13eb-dd5b-4f16-abc6-bfeaa405ee35",
   "metadata": {
    "editable": true,
    "slideshow": {
     "slide_type": ""
    },
    "tags": []
   },
   "outputs": [],
   "source": [
    "# DYNAMOS CORE (US)\n",
    "dynamos_core_node = slice.get_node(dynamos_core_node_name)\n",
    "stdout, stderr = dynamos_core_node.execute(f\"sudo git clone https://github.com/Jorrit05/DYNAMOS.git\")\n",
    "file_attributes = dynamos_core_node.upload_file(local_file_path=\"config_dynamos-s.sh\", remote_file_path=\"config_dynamos-s.sh\")\n",
    "stdout, stderr = dynamos_core_node.execute(f\"chmod +x config_dynamos-s.sh && ./config_dynamos-s.sh\")"
   ]
  },
  {
   "cell_type": "markdown",
   "id": "6411cea9-272b-4ed9-8022-0b3150f6f42a",
   "metadata": {},
   "source": [
    "## Demo Setup\n",
    "\n",
    "Collaborative Vertical Federated Learning for the two clients."
   ]
  },
  {
   "cell_type": "code",
   "execution_count": null,
   "id": "aacd5d17-6105-44c4-82e2-aa9713e064f7",
   "metadata": {},
   "outputs": [],
   "source": [
    "# Client I (EU)\n",
    "client_1_node = slice.get_node(client_1_node_name)\n",
    "file_attributes = client_1_node.upload_file(local_file_path=\"start_demo_client_1-l.sh\", remote_file_path=\"start_demo_client_1-l.sh\")\n",
    "stdout, stderr = client_1_node.execute(f\"chmod +x start_demo_client_1-l.sh && ./start_demo_client_1-l.sh\")"
   ]
  },
  {
   "cell_type": "code",
   "execution_count": null,
   "id": "80d8d344-9ba0-48d4-811b-44d4ec55fd76",
   "metadata": {},
   "outputs": [],
   "source": [
    "# Client II (US)\n",
    "client_2_node = slice.get_node(client_2_node_name)\n",
    "file_attributes = client_2_node.upload_file(local_file_path=\"start_demo_client_2-l.sh\", remote_file_path=\"start_demo_client_2-l.sh\")\n",
    "stdout, stderr = client_2_node.execute(f\"chmod +x start_demo_client_2-l.sh && ./start_demo_client_2-l.sh\")"
   ]
  },
  {
   "cell_type": "markdown",
   "id": "f26cdbdb-2faf-4588-855c-130562bee8b6",
   "metadata": {},
   "source": [
    "Operation."
   ]
  },
  {
   "cell_type": "markdown",
   "id": "c1d35c60-20f6-41d9-83fb-8a96e2d75977",
   "metadata": {
    "editable": true,
    "slideshow": {
     "slide_type": ""
    },
    "tags": []
   },
   "source": [
    "## Slice Termination"
   ]
  },
  {
   "cell_type": "code",
   "execution_count": null,
   "id": "2ec3f9e0-59f1-4957-aa53-230d6caf69da",
   "metadata": {},
   "outputs": [],
   "source": [
    "# Release Resources\n",
    "slice.delete()"
   ]
  },
  {
   "cell_type": "markdown",
   "id": "52925fc9-96cd-4864-ac74-c57d8155a35f",
   "metadata": {
    "jp-MarkdownHeadingCollapsed": true
   },
   "source": [
    "### Changelog"
   ]
  },
  {
   "cell_type": "markdown",
   "id": "204a588a-6f53-4b9f-9b81-1cb1b0d111e9",
   "metadata": {},
   "source": [
    "Multipoint L2STS might not be abailable with CIEN Node  \n",
    "\"CIEN\" node is the node in Atlanta  "
   ]
  },
  {
   "cell_type": "code",
   "execution_count": null,
   "id": "4ae6042e-054e-441b-b606-ac38dcc7bd1e",
   "metadata": {},
   "outputs": [],
   "source": [
    "# stdout, stderr = node1.execute(f\"linkerd check --pre\")"
   ]
  },
  {
   "cell_type": "code",
   "execution_count": null,
   "id": "f6e26bec-39c0-4d0c-b368-b8ff035acfc6",
   "metadata": {},
   "outputs": [],
   "source": [
    "# stdout, stderr = node1.execute(f\"kubectl\")"
   ]
  },
  {
   "cell_type": "code",
   "execution_count": null,
   "id": "76b1d23f-e88d-452b-ad96-8beda7b2ab05",
   "metadata": {},
   "outputs": [],
   "source": [
    "# stdout, stderr = node1.execute(f\"sudo ufw status\")"
   ]
  },
  {
   "cell_type": "code",
   "execution_count": null,
   "id": "11d59bd6-703d-4765-b395-05b380f9b7c6",
   "metadata": {},
   "outputs": [],
   "source": [
    "# stdout, stderr = node1.execute(f\"ls -la\")"
   ]
  },
  {
   "cell_type": "code",
   "execution_count": null,
   "id": "35a93f6f-afad-4d20-b5ab-c1c9303fcb33",
   "metadata": {},
   "outputs": [],
   "source": [
    "# stdout, stderr = node1.execute(f\"sudo netstat -tlnp\")"
   ]
  },
  {
   "cell_type": "code",
   "execution_count": null,
   "id": "90f82200-9529-4892-bd67-dc32391fe897",
   "metadata": {},
   "outputs": [],
   "source": [
    "# stdout, stderr = node1.execute(f\"sudo kubectl\")"
   ]
  },
  {
   "cell_type": "code",
   "execution_count": null,
   "id": "21dbff81-906c-4271-a491-2370ceca65f9",
   "metadata": {},
   "outputs": [],
   "source": [
    "# stdout, stderr = node1.execute(f\"sudo ufw allow 8080\")"
   ]
  },
  {
   "cell_type": "code",
   "execution_count": null,
   "id": "c23a496e-d9a8-4478-9c51-e8eb178ff1b9",
   "metadata": {},
   "outputs": [],
   "source": [
    "# stdout, stderr = node1.execute(f\"sudo service ufw restart\")"
   ]
  },
  {
   "cell_type": "code",
   "execution_count": null,
   "id": "14398f4c-7c78-4507-926a-2870dea3419a",
   "metadata": {},
   "outputs": [],
   "source": [
    "# stdout, stderr = node1.execute(f\"sudo netstat -tunlp\")"
   ]
  },
  {
   "cell_type": "code",
   "execution_count": null,
   "id": "029b7020-822b-4c66-a122-5aff6ffe9b73",
   "metadata": {},
   "outputs": [],
   "source": []
  }
 ],
 "metadata": {
  "kernelspec": {
   "display_name": "Python 3 (ipykernel)",
   "language": "python",
   "name": "python3"
  },
  "language_info": {
   "codemirror_mode": {
    "name": "ipython",
    "version": 3
   },
   "file_extension": ".py",
   "mimetype": "text/x-python",
   "name": "python",
   "nbconvert_exporter": "python",
   "pygments_lexer": "ipython3",
   "version": "3.11.9"
  }
 },
 "nbformat": 4,
 "nbformat_minor": 5
}
